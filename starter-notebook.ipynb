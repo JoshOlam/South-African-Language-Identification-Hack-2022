{
 "cells": [
  {
   "cell_type": "markdown",
   "id": "6c7e849a",
   "metadata": {
    "ExecuteTime": {
     "end_time": "2021-06-11T09:24:53.643384Z",
     "start_time": "2021-06-11T09:24:53.622385Z"
    }
   },
   "source": [
    "# South African Language Identification Hack 2022\n",
    "\n",
    "© Explore Data Science Academy\n",
    "\n",
    "---\n",
    "### Honour Code\n",
    "\n",
    "I **Joshua, Olalemi**, confirm - by submitting this document - that the solutions in this notebook are a result of my own work and that I abide by the [EDSA honour code](https://drive.google.com/file/d/1QDCjGZJ8-FmJE3bZdIQNwnJyQKPhHZBn/view?usp=sharing).\n",
    "\n",
    "Non-compliance with the honour code constitutes a material breach of contract.\n",
    "\n",
    "### Hackathon Overview:\n",
    "\n",
    "South Africa is a multicultural society that is characterised by its rich linguistic diversity. Language is an indispensable tool that can be used to deepen democracy and also contribute to the social, cultural, intellectual, economic and political life of the South African society.\n",
    "\n",
    "The country is multilingual with 11 official languages, each of which is guaranteed equal status. Most South Africans are multilingual and able to speak at least two or more of the official languages.\n",
    "From South African Government\n",
    "<br></br>\n",
    "\n",
    "<div align=\"center\" style=\"width: 600px; font-size: 80%; text-align: center; margin: 0 auto\">\n",
    "<img src=\"https://www.googleapis.com/download/storage/v1/b/kaggle-user-content/o/inbox%2F2205222%2F7f34544c1b1f61d1a5949bddacfd84a9%2FSouth_Africa_languages_2011.jpg?generation=1604393669339034&alt=media\"\n",
    "     alt=\"South Africa's Languages\"\n",
    "     style=\"float: center; padding-bottom=0.5em\"\n",
    "     width=800px/>\n"
   ]
  },
  {
   "cell_type": "markdown",
   "id": "ef9b6b66",
   "metadata": {},
   "source": [
    "With such a multilingual population, it is only obvious that our systems and devices also communicate in multi-languages.\n",
    "\n",
    "In this challenge, you will take text which is in any of South Africa's 11 Official languages and identify which language the text is in. This is an example of NLP's Language Identification, the task of determining the natural language that a piece of text is written in."
   ]
  },
  {
   "cell_type": "markdown",
   "id": "05600c92",
   "metadata": {},
   "source": [
    "<a id=\"cont\"></a>\n",
    "\n",
    "## Table of Contents\n",
    "\n",
    "<a href=#one>1. Importing Packages</a>\n",
    "\n",
    "<a href=#two>2. Loading Data</a>\n",
    "\n",
    "<a href=#three>3. Exploratory Data Analysis (EDA)</a>\n",
    "\n",
    "<a href=#four>4. Data Engineering</a>\n",
    "\n",
    "<a href=#five>5. Modeling</a>\n",
    "\n",
    "<a href=#six>6. Model Performance</a>\n",
    "\n",
    "<a href=#seven>7. Model Explanations</a>"
   ]
  },
  {
   "cell_type": "markdown",
   "id": "997462e2",
   "metadata": {},
   "source": [
    " <a id=\"one\"></a>\n",
    "## 1. Importing Packages\n",
    "<a href=#cont>Back to Table of Contents</a>\n",
    "\n",
    "---\n",
    "    \n",
    "| ⚡ Description: Importing Packages ⚡ |\n",
    "| :--------------------------- |\n",
    "| In this section, I imported and briefly discussed the libraries that I used throughout the analysis and modelling. |\n",
    "\n",
    "---"
   ]
  },
  {
   "cell_type": "code",
   "execution_count": 71,
   "id": "475dbe93",
   "metadata": {
    "ExecuteTime": {
     "end_time": "2021-06-23T10:30:53.800892Z",
     "start_time": "2021-06-23T10:30:50.215449Z"
    }
   },
   "outputs": [],
   "source": [
    "#Come back and regroup the imports accordingly\n",
    "# Libraries for data loading, data manipulation and data visulisation\n",
    "import pandas as pd #This will be used for data loading and manipulation\n",
    "import numpy as np # This will be used for linear algebra on data\n",
    "import seaborn as sns \n",
    "import matplotlib.pyplot as plt #This will be used for data visualization\n",
    "from matplotlib import rc\n",
    "%matplotlib inline\n",
    "\n",
    "\n",
    "# Importing modules for data science and visualization\n",
    "import pandas as pd\n",
    "import numpy as np\n",
    "import seaborn as sns\n",
    "import matplotlib.pyplot as plt\n",
    "import matplotlib as mpl\n",
    "mpl.rcParams['figure.dpi'] = 180 # Quality of all figures in notebook\n",
    "\n",
    "# NLP Libraries\n",
    "import re\n",
    "import string\n",
    "from nltk.corpus import stopwords\n",
    "from os import path\n",
    "from PIL import Image\n",
    "\n",
    "# ML Libraries\n",
    "from sklearn.model_selection import train_test_split\n",
    "from nltk import pos_tag\n",
    "\n",
    "#ignore warnings\n",
    "import warnings\n",
    "warnings.filterwarnings('ignore')\n",
    "\n",
    "from sklearn import metrics\n",
    "from sklearn.pipeline import Pipeline\n",
    "from sklearn.feature_extraction.text import CountVectorizer\n",
    "\n",
    "from sklearn.linear_model import LogisticRegression\n",
    "from sklearn.svm import SVC, LinearSVC\n",
    "from sklearn.neighbors import KNeighborsClassifier\n",
    "from sklearn.tree import DecisionTreeClassifier\n",
    "from sklearn.ensemble import RandomForestClassifier\n",
    "from sklearn.ensemble import AdaBoostClassifier\n",
    "from sklearn import metrics\n",
    "from sklearn.pipeline import Pipeline\n",
    "from sklearn.decomposition import LatentDirichletAllocation as LDA\n",
    "from sklearn.model_selection import GridSearchCV\n",
    "from sklearn import metrics\n",
    "from sklearn.naive_bayes import MultinomialNB, ComplementNB\n",
    "from sklearn.neighbors import KNeighborsClassifier\n",
    "from sklearn.model_selection import StratifiedKFold\n",
    "from sklearn.model_selection import KFold\n",
    "from sklearn.linear_model import LogisticRegression, SGDClassifier, RidgeClassifier\n",
    "from sklearn.model_selection import cross_val_score, GridSearchCV, RepeatedStratifiedKFold\n",
    "from sklearn.ensemble import RandomForestClassifier\n",
    "\n",
    "\n",
    "# Import vectorizer\n",
    "from sklearn.feature_extraction.text import TfidfVectorizer\n",
    "\n",
    "\n",
    "\n",
    "import warnings\n",
    "warnings.filterwarnings('ignore')\n",
    "\n",
    "from nlppreprocess import NLP\n",
    "\n",
    "# Libraries for data preparation and model building\n",
    "#import *\n",
    "\n",
    "# Setting global constants to ensure notebook results are reproducible\n",
    "#PARAMETER_CONSTANT = ###"
   ]
  },
  {
   "cell_type": "markdown",
   "id": "f22a6718",
   "metadata": {},
   "source": [
    "<a id=\"two\"></a>\n",
    "## 2. Loading the Data\n",
    "<a class=\"anchor\" id=\"1.1\"></a>\n",
    "<a href=#cont>Back to Table of Contents</a>\n",
    "\n",
    "---\n",
    "    \n",
    "| ⚡ Description: Loading the data ⚡ |\n",
    "| :--------------------------- |\n",
    "| In this section, I loaded the \"train\" and \"test\" datasets into different DataFrames. |\n",
    "\n",
    "---"
   ]
  },
  {
   "cell_type": "code",
   "execution_count": 72,
   "id": "fbbb6c18",
   "metadata": {
    "ExecuteTime": {
     "end_time": "2021-06-28T08:49:35.311495Z",
     "start_time": "2021-06-28T08:49:35.295494Z"
    }
   },
   "outputs": [],
   "source": [
    "df_train = pd.read_csv(\"train_set.csv\") # load the train data\n",
    "\n",
    "df_test = pd.read_csv(\"test_set.csv\") # load the  test data"
   ]
  },
  {
   "cell_type": "code",
   "execution_count": 73,
   "id": "f5d7adf3",
   "metadata": {},
   "outputs": [],
   "source": [
    "#load the sample submission file\n",
    "sample_submission = pd.read_csv('sample_submission.csv')"
   ]
  },
  {
   "cell_type": "markdown",
   "id": "81132ab3",
   "metadata": {},
   "source": [
    "<a id=\"three\"></a>\n",
    "## 3. Exploratory Data Analysis (EDA)\n",
    "<a class=\"anchor\" id=\"1.1\"></a>\n",
    "<a href=#cont>Back to Table of Contents</a>\n",
    "\n",
    "---\n",
    "    \n",
    "| ⚡ Description: Exploratory data analysis ⚡ |\n",
    "| :--------------------------- |\n",
    "| In this section, I performed an in-depth analysis of all the variables in the DataFrame.|\n",
    "\n",
    "---\n"
   ]
  },
  {
   "cell_type": "code",
   "execution_count": 74,
   "id": "13d06f86",
   "metadata": {},
   "outputs": [
    {
     "data": {
      "text/html": [
       "<div>\n",
       "<style scoped>\n",
       "    .dataframe tbody tr th:only-of-type {\n",
       "        vertical-align: middle;\n",
       "    }\n",
       "\n",
       "    .dataframe tbody tr th {\n",
       "        vertical-align: top;\n",
       "    }\n",
       "\n",
       "    .dataframe thead th {\n",
       "        text-align: right;\n",
       "    }\n",
       "</style>\n",
       "<table border=\"1\" class=\"dataframe\">\n",
       "  <thead>\n",
       "    <tr style=\"text-align: right;\">\n",
       "      <th></th>\n",
       "      <th>index</th>\n",
       "      <th>lang_id</th>\n",
       "    </tr>\n",
       "  </thead>\n",
       "  <tbody>\n",
       "    <tr>\n",
       "      <th>0</th>\n",
       "      <td>1</td>\n",
       "      <td>tsn</td>\n",
       "    </tr>\n",
       "    <tr>\n",
       "      <th>1</th>\n",
       "      <td>2</td>\n",
       "      <td>nbl</td>\n",
       "    </tr>\n",
       "  </tbody>\n",
       "</table>\n",
       "</div>"
      ],
      "text/plain": [
       "   index lang_id\n",
       "0      1     tsn\n",
       "1      2     nbl"
      ]
     },
     "execution_count": 74,
     "metadata": {},
     "output_type": "execute_result"
    }
   ],
   "source": [
    "sample_submission #This is to have an overview of the submission data"
   ]
  },
  {
   "cell_type": "markdown",
   "id": "7f5967bd",
   "metadata": {},
   "source": [
    "As seen in the result above, we are expected to submit a csv file with two (2) columns: \"index\" and \"lang_id\""
   ]
  },
  {
   "cell_type": "code",
   "execution_count": 75,
   "id": "e805134e",
   "metadata": {
    "ExecuteTime": {
     "end_time": "2021-06-28T08:52:37.824204Z",
     "start_time": "2021-06-28T08:52:37.811206Z"
    }
   },
   "outputs": [
    {
     "data": {
      "text/html": [
       "<div>\n",
       "<style scoped>\n",
       "    .dataframe tbody tr th:only-of-type {\n",
       "        vertical-align: middle;\n",
       "    }\n",
       "\n",
       "    .dataframe tbody tr th {\n",
       "        vertical-align: top;\n",
       "    }\n",
       "\n",
       "    .dataframe thead th {\n",
       "        text-align: right;\n",
       "    }\n",
       "</style>\n",
       "<table border=\"1\" class=\"dataframe\">\n",
       "  <thead>\n",
       "    <tr style=\"text-align: right;\">\n",
       "      <th></th>\n",
       "      <th>lang_id</th>\n",
       "      <th>text</th>\n",
       "    </tr>\n",
       "  </thead>\n",
       "  <tbody>\n",
       "    <tr>\n",
       "      <th>0</th>\n",
       "      <td>xho</td>\n",
       "      <td>umgaqo-siseko wenza amalungiselelo kumaziko ax...</td>\n",
       "    </tr>\n",
       "    <tr>\n",
       "      <th>1</th>\n",
       "      <td>xho</td>\n",
       "      <td>i-dha iya kuba nobulumko bokubeka umsebenzi na...</td>\n",
       "    </tr>\n",
       "    <tr>\n",
       "      <th>2</th>\n",
       "      <td>eng</td>\n",
       "      <td>the province of kwazulu-natal department of tr...</td>\n",
       "    </tr>\n",
       "    <tr>\n",
       "      <th>3</th>\n",
       "      <td>nso</td>\n",
       "      <td>o netefatša gore o ba file dilo ka moka tše le...</td>\n",
       "    </tr>\n",
       "    <tr>\n",
       "      <th>4</th>\n",
       "      <td>ven</td>\n",
       "      <td>khomishini ya ndinganyiso ya mbeu yo ewa maana...</td>\n",
       "    </tr>\n",
       "    <tr>\n",
       "      <th>...</th>\n",
       "      <td>...</td>\n",
       "      <td>...</td>\n",
       "    </tr>\n",
       "    <tr>\n",
       "      <th>32995</th>\n",
       "      <td>tsn</td>\n",
       "      <td>popo ya dipolateforomo tse ke go tlisa boetele...</td>\n",
       "    </tr>\n",
       "    <tr>\n",
       "      <th>32996</th>\n",
       "      <td>sot</td>\n",
       "      <td>modise mosadi na o ntse o sa utlwe hore thaban...</td>\n",
       "    </tr>\n",
       "    <tr>\n",
       "      <th>32997</th>\n",
       "      <td>eng</td>\n",
       "      <td>closing date for the submission of completed t...</td>\n",
       "    </tr>\n",
       "    <tr>\n",
       "      <th>32998</th>\n",
       "      <td>xho</td>\n",
       "      <td>nawuphina umntu ofunyenwe enetyala phantsi kwa...</td>\n",
       "    </tr>\n",
       "    <tr>\n",
       "      <th>32999</th>\n",
       "      <td>sot</td>\n",
       "      <td>mafapha a mang le ona a lokela ho etsa ditlale...</td>\n",
       "    </tr>\n",
       "  </tbody>\n",
       "</table>\n",
       "<p>33000 rows × 2 columns</p>\n",
       "</div>"
      ],
      "text/plain": [
       "      lang_id                                               text\n",
       "0         xho  umgaqo-siseko wenza amalungiselelo kumaziko ax...\n",
       "1         xho  i-dha iya kuba nobulumko bokubeka umsebenzi na...\n",
       "2         eng  the province of kwazulu-natal department of tr...\n",
       "3         nso  o netefatša gore o ba file dilo ka moka tše le...\n",
       "4         ven  khomishini ya ndinganyiso ya mbeu yo ewa maana...\n",
       "...       ...                                                ...\n",
       "32995     tsn  popo ya dipolateforomo tse ke go tlisa boetele...\n",
       "32996     sot  modise mosadi na o ntse o sa utlwe hore thaban...\n",
       "32997     eng  closing date for the submission of completed t...\n",
       "32998     xho  nawuphina umntu ofunyenwe enetyala phantsi kwa...\n",
       "32999     sot  mafapha a mang le ona a lokela ho etsa ditlale...\n",
       "\n",
       "[33000 rows x 2 columns]"
      ]
     },
     "execution_count": 75,
     "metadata": {},
     "output_type": "execute_result"
    }
   ],
   "source": [
    "df_train #This is to have an overview of the trains data."
   ]
  },
  {
   "cell_type": "markdown",
   "id": "48791a4c",
   "metadata": {},
   "source": [
    "Looking at the top five and bottom five rows of our data we can see some of our features as well as the types of data we are working with.\n",
    "\n",
    "It is observed that it contains 2 columns: \"lang_id\" & \"text\".\n",
    "The \"lang_id\" is the language class the text belongs to; while the \"text\" column contains the actual text in a South African language.\n",
    "\n",
    "\n",
    "Let's also have an overview of the test data below.\n"
   ]
  },
  {
   "cell_type": "code",
   "execution_count": 76,
   "id": "586714ec",
   "metadata": {},
   "outputs": [
    {
     "data": {
      "text/html": [
       "<div>\n",
       "<style scoped>\n",
       "    .dataframe tbody tr th:only-of-type {\n",
       "        vertical-align: middle;\n",
       "    }\n",
       "\n",
       "    .dataframe tbody tr th {\n",
       "        vertical-align: top;\n",
       "    }\n",
       "\n",
       "    .dataframe thead th {\n",
       "        text-align: right;\n",
       "    }\n",
       "</style>\n",
       "<table border=\"1\" class=\"dataframe\">\n",
       "  <thead>\n",
       "    <tr style=\"text-align: right;\">\n",
       "      <th></th>\n",
       "      <th>index</th>\n",
       "      <th>text</th>\n",
       "    </tr>\n",
       "  </thead>\n",
       "  <tbody>\n",
       "    <tr>\n",
       "      <th>0</th>\n",
       "      <td>1</td>\n",
       "      <td>Mmasepala, fa maemo a a kgethegileng a letlele...</td>\n",
       "    </tr>\n",
       "    <tr>\n",
       "      <th>1</th>\n",
       "      <td>2</td>\n",
       "      <td>Uzakwaziswa ngokufaneleko nakungafuneka eminye...</td>\n",
       "    </tr>\n",
       "    <tr>\n",
       "      <th>2</th>\n",
       "      <td>3</td>\n",
       "      <td>Tshivhumbeo tshi fana na ngano dza vhathu.</td>\n",
       "    </tr>\n",
       "    <tr>\n",
       "      <th>3</th>\n",
       "      <td>4</td>\n",
       "      <td>Kube inja nelikati betingevakala kutsi titsini...</td>\n",
       "    </tr>\n",
       "    <tr>\n",
       "      <th>4</th>\n",
       "      <td>5</td>\n",
       "      <td>Winste op buitelandse valuta.</td>\n",
       "    </tr>\n",
       "    <tr>\n",
       "      <th>...</th>\n",
       "      <td>...</td>\n",
       "      <td>...</td>\n",
       "    </tr>\n",
       "    <tr>\n",
       "      <th>5677</th>\n",
       "      <td>5678</td>\n",
       "      <td>You mark your ballot in private.</td>\n",
       "    </tr>\n",
       "    <tr>\n",
       "      <th>5678</th>\n",
       "      <td>5679</td>\n",
       "      <td>Ge o ka kgetha ka bowena go se šomiše Mofani k...</td>\n",
       "    </tr>\n",
       "    <tr>\n",
       "      <th>5679</th>\n",
       "      <td>5680</td>\n",
       "      <td>E Ka kopo etsa kgetho ya hao ka hloko, hobane ...</td>\n",
       "    </tr>\n",
       "    <tr>\n",
       "      <th>5680</th>\n",
       "      <td>5681</td>\n",
       "      <td>TB ke bokudi ba PMB, mme Morero o tla lefella ...</td>\n",
       "    </tr>\n",
       "    <tr>\n",
       "      <th>5681</th>\n",
       "      <td>5682</td>\n",
       "      <td>Vakatjhela iwebhusayidi yethu ku-www.</td>\n",
       "    </tr>\n",
       "  </tbody>\n",
       "</table>\n",
       "<p>5682 rows × 2 columns</p>\n",
       "</div>"
      ],
      "text/plain": [
       "      index                                               text\n",
       "0         1  Mmasepala, fa maemo a a kgethegileng a letlele...\n",
       "1         2  Uzakwaziswa ngokufaneleko nakungafuneka eminye...\n",
       "2         3         Tshivhumbeo tshi fana na ngano dza vhathu.\n",
       "3         4  Kube inja nelikati betingevakala kutsi titsini...\n",
       "4         5                      Winste op buitelandse valuta.\n",
       "...     ...                                                ...\n",
       "5677   5678                   You mark your ballot in private.\n",
       "5678   5679  Ge o ka kgetha ka bowena go se šomiše Mofani k...\n",
       "5679   5680  E Ka kopo etsa kgetho ya hao ka hloko, hobane ...\n",
       "5680   5681  TB ke bokudi ba PMB, mme Morero o tla lefella ...\n",
       "5681   5682              Vakatjhela iwebhusayidi yethu ku-www.\n",
       "\n",
       "[5682 rows x 2 columns]"
      ]
     },
     "execution_count": 76,
     "metadata": {},
     "output_type": "execute_result"
    }
   ],
   "source": [
    "df_test #This is to have an overview of the trains data."
   ]
  },
  {
   "cell_type": "markdown",
   "id": "d4644110",
   "metadata": {},
   "source": [
    "From the above result, it can be seen that though the test data also has two(2) columns (\"index\" & \"text\"), it doesn't contain the \"lang_id\" column (like the train dataset). This is normal because that is what we want to get in this hackathon.\n",
    "\n",
    "Therefore, our focus will be on the trains dataset.\n",
    "\n",
    "And to proceed further with the exploration of the data, since we know that null values and non-numerical data types (called \"object\") affect Machine Learning (ML) models, let's check if any of these are present in the train data."
   ]
  },
  {
   "cell_type": "code",
   "execution_count": 77,
   "id": "60d5b4ae",
   "metadata": {},
   "outputs": [
    {
     "name": "stdout",
     "output_type": "stream",
     "text": [
      "<class 'pandas.core.frame.DataFrame'>\n",
      "RangeIndex: 33000 entries, 0 to 32999\n",
      "Data columns (total 2 columns):\n",
      " #   Column   Non-Null Count  Dtype \n",
      "---  ------   --------------  ----- \n",
      " 0   lang_id  33000 non-null  object\n",
      " 1   text     33000 non-null  object\n",
      "dtypes: object(2)\n",
      "memory usage: 515.8+ KB\n"
     ]
    }
   ],
   "source": [
    "#This will print the total null values in the dataset and the data types of the data in the columns\n",
    "df_train.info()"
   ]
  },
  {
   "cell_type": "markdown",
   "id": "05cddcf5",
   "metadata": {},
   "source": [
    "Well, fortunately for us, it appears that there are no null values in the data (strange but true). But there is a big \"BUT\" here. The data type of the contents in the dataset is \"object\" (texts.). Let's not worry about that for now; it will be dealt with later.\n",
    "\n",
    "As an *Explorer*, let's keep exploring 😄.\n",
    "\n"
   ]
  },
  {
   "cell_type": "markdown",
   "id": "a16f4863",
   "metadata": {},
   "source": [
    "The next thing we want to explore is the unique languages and their number. This will help us know if `resamplign` will need to be done."
   ]
  },
  {
   "cell_type": "code",
   "execution_count": 78,
   "id": "da962b4f",
   "metadata": {},
   "outputs": [
    {
     "name": "stdout",
     "output_type": "stream",
     "text": [
      "The total number of unique entries in lang_id columns is: 11 which are seen below:\n"
     ]
    },
    {
     "data": {
      "text/plain": [
       "xho    3000\n",
       "eng    3000\n",
       "nso    3000\n",
       "ven    3000\n",
       "tsn    3000\n",
       "nbl    3000\n",
       "zul    3000\n",
       "ssw    3000\n",
       "tso    3000\n",
       "sot    3000\n",
       "afr    3000\n",
       "Name: lang_id, dtype: int64"
      ]
     },
     "execution_count": 78,
     "metadata": {},
     "output_type": "execute_result"
    }
   ],
   "source": [
    "#This will return a list of the unique texts in the lang_id column and the number of times they appeared\n",
    "\n",
    "print('The total number of unique entries in lang_id columns is:', len(df_train['lang_id'].unique()), \"which are seen below:\")\n",
    "df_train['lang_id'].value_counts()"
   ]
  },
  {
   "cell_type": "markdown",
   "id": "d8836b87",
   "metadata": {},
   "source": [
    "Wow, I'm shocked right now! It appears that there are 11 unique entries and they are all balanced. Let me visualize this on a plot."
   ]
  },
  {
   "cell_type": "code",
   "execution_count": 79,
   "id": "78abd8e6",
   "metadata": {},
   "outputs": [
    {
     "data": {
      "image/png": "[encoded data removed]",
      "text/plain": [
       "<Figure size 900x360 with 1 Axes>"
      ]
     },
     "metadata": {
      "needs_background": "light"
     },
     "output_type": "display_data"
    }
   ],
   "source": [
    "#using seaborn's countplot function\n",
    "fig, axis = plt.subplots(figsize=(5, 2))\n",
    "axis = sns.countplot(x='lang_id', data=df_train)\n",
    "plt.show()"
   ]
  },
  {
   "cell_type": "markdown",
   "id": "54e4bd98",
   "metadata": {},
   "source": [
    "Strange but true, the data is evenly distributed across.\n",
    "\n",
    "Therefore, without much ado, let's now proceed to engineer the data."
   ]
  },
  {
   "cell_type": "markdown",
   "id": "3fa93ec6",
   "metadata": {},
   "source": [
    "<a id=\"four\"></a>\n",
    "## 4. Data Engineering\n",
    "<a class=\"anchor\" id=\"1.1\"></a>\n",
    "<a href=#cont>Back to Table of Contents</a>\n",
    "\n",
    "---\n",
    "    \n",
    "| ⚡ Description: Data engineering ⚡ |\n",
    "| :--------------------------- |\n",
    "| In this section, I engineered the dataset by cleaning it (removing the noise) and also adding new features - as identified in the EDA phase. |\n",
    "\n",
    "---"
   ]
  },
  {
   "cell_type": "code",
   "execution_count": 80,
   "id": "059c2f3e",
   "metadata": {},
   "outputs": [],
   "source": [
    "#Let's first create an insurance train data, just to be on the safe side\n",
    "train_insurance = df_train.copy()"
   ]
  },
  {
   "cell_type": "markdown",
   "id": "dfe9817b",
   "metadata": {},
   "source": [
    "### Remove URLs\n"
   ]
  },
  {
   "cell_type": "code",
   "execution_count": 81,
   "id": "a29e0ec5",
   "metadata": {},
   "outputs": [
    {
     "data": {
      "text/html": [
       "<div>\n",
       "<style scoped>\n",
       "    .dataframe tbody tr th:only-of-type {\n",
       "        vertical-align: middle;\n",
       "    }\n",
       "\n",
       "    .dataframe tbody tr th {\n",
       "        vertical-align: top;\n",
       "    }\n",
       "\n",
       "    .dataframe thead th {\n",
       "        text-align: right;\n",
       "    }\n",
       "</style>\n",
       "<table border=\"1\" class=\"dataframe\">\n",
       "  <thead>\n",
       "    <tr style=\"text-align: right;\">\n",
       "      <th></th>\n",
       "      <th>lang_id</th>\n",
       "      <th>text</th>\n",
       "    </tr>\n",
       "  </thead>\n",
       "  <tbody>\n",
       "    <tr>\n",
       "      <th>0</th>\n",
       "      <td>xho</td>\n",
       "      <td>umgaqo-siseko wenza amalungiselelo kumaziko ax...</td>\n",
       "    </tr>\n",
       "    <tr>\n",
       "      <th>1</th>\n",
       "      <td>xho</td>\n",
       "      <td>i-dha iya kuba nobulumko bokubeka umsebenzi na...</td>\n",
       "    </tr>\n",
       "    <tr>\n",
       "      <th>2</th>\n",
       "      <td>eng</td>\n",
       "      <td>the province of kwazulu-natal department of tr...</td>\n",
       "    </tr>\n",
       "    <tr>\n",
       "      <th>3</th>\n",
       "      <td>nso</td>\n",
       "      <td>o netefatša gore o ba file dilo ka moka tše le...</td>\n",
       "    </tr>\n",
       "    <tr>\n",
       "      <th>4</th>\n",
       "      <td>ven</td>\n",
       "      <td>khomishini ya ndinganyiso ya mbeu yo ewa maana...</td>\n",
       "    </tr>\n",
       "  </tbody>\n",
       "</table>\n",
       "</div>"
      ],
      "text/plain": [
       "  lang_id                                               text\n",
       "0     xho  umgaqo-siseko wenza amalungiselelo kumaziko ax...\n",
       "1     xho  i-dha iya kuba nobulumko bokubeka umsebenzi na...\n",
       "2     eng  the province of kwazulu-natal department of tr...\n",
       "3     nso  o netefatša gore o ba file dilo ka moka tše le...\n",
       "4     ven  khomishini ya ndinganyiso ya mbeu yo ewa maana..."
      ]
     },
     "execution_count": 81,
     "metadata": {},
     "output_type": "execute_result"
    }
   ],
   "source": [
    "#Remove urls in the text and replaces with 'url-web'\n",
    "pattern_url = r'http[s]?://(?:[A-Za-z]|[0-9]|[$-_@.&+]|[!*\\(\\),]|(?:%[0-9A-Fa-f][0-9A-Fa-f]))+'\n",
    "subs_url = r'url-web'\n",
    "train_insurance['text'] = train_insurance['text'].replace(to_replace = pattern_url,\n",
    "                                                                value = subs_url,\n",
    "                                                                regex = True)\n",
    "\n",
    "#Let's see an overview of the train_insurance\n",
    "train_insurance.head()"
   ]
  },
  {
   "cell_type": "code",
   "execution_count": 82,
   "id": "c18b3415",
   "metadata": {},
   "outputs": [],
   "source": [
    "#Makes all the text lower case\n",
    "train_insurance['text'] = train_insurance['text'].str.lower()"
   ]
  },
  {
   "cell_type": "markdown",
   "id": "afb4ea00",
   "metadata": {},
   "source": [
    "### Remove Punctuations\n",
    "Now let's remove the punctuation using the `string` import.\n",
    "\n",
    "First, create a function to do that..."
   ]
  },
  {
   "cell_type": "code",
   "execution_count": 83,
   "id": "29430d57",
   "metadata": {},
   "outputs": [],
   "source": [
    "def remove_punctuation(text):\n",
    "    '''\n",
    "    This function takes in a text, and returns the text without puntuation marks\n",
    "    '''\n",
    "    return ''.join([chars for chars in text if chars not in string.punctuation])"
   ]
  },
  {
   "cell_type": "markdown",
   "id": "453e9ff0",
   "metadata": {},
   "source": [
    "...Then apply the created function to the text column"
   ]
  },
  {
   "cell_type": "code",
   "execution_count": 84,
   "id": "adadab0b",
   "metadata": {},
   "outputs": [],
   "source": [
    "train_insurance['text'] = train_insurance['text'].apply(remove_punctuation)"
   ]
  },
  {
   "cell_type": "markdown",
   "id": "8c32ffaa",
   "metadata": {},
   "source": [
    "Cool. Let's check a random text just to be sure."
   ]
  },
  {
   "cell_type": "code",
   "execution_count": 85,
   "id": "7db186f6",
   "metadata": {},
   "outputs": [
    {
     "data": {
      "text/plain": [
       "'mokgwa wa moralo wa mafapha a mmuso o radilweng hantle le o qobellwang o tla fana ka tshusumetso e kgolwanyane meralong e kopantsweng ya ntshetsopele mabapi le moralo oo mahlakore a mang a mmuso ho kenyeleditswe dikarolo tsa mafapha a sebedisang ditjhelete tsa bona ka teng kahare ho bomasepala'"
      ]
     },
     "execution_count": 85,
     "metadata": {},
     "output_type": "execute_result"
    }
   ],
   "source": [
    "train_insurance['text'].iloc[234]"
   ]
  },
  {
   "cell_type": "markdown",
   "id": "d4a41f61",
   "metadata": {},
   "source": [
    "As seen above, apparently, the function did it's job well.\n",
    "\n",
    "### Stop Words \n",
    "Stop words are words which do not contain important significance to be used in Search Queries. Usually these words are filtered out from search queries because they return a vast amount of unnecessary information.\n",
    "\n",
    "The function below removes all of the English stopwords from the input text using the Natural Language Processing (NLP) package."
   ]
  },
  {
   "cell_type": "code",
   "execution_count": 86,
   "id": "b0206c0f",
   "metadata": {},
   "outputs": [],
   "source": [
    "def remove_stop_words(text):\n",
    "\n",
    "   '''\n",
    "   The function takes in a text and returns the text without stopwords\n",
    "   Simply put: it removes stop words from a text\n",
    "   ''' \n",
    "   text_cleaner = NLP(replace_words=True,\n",
    "                     remove_numbers=True,\n",
    "                     remove_stopwords=True,\n",
    "                     remove_punctuations=True)\n",
    "   text = text_cleaner.process(text)\n",
    "   return text"
   ]
  },
  {
   "cell_type": "markdown",
   "id": "8dc61bb3",
   "metadata": {},
   "source": [
    "Now that we have the function, let's apply it to the text column in the data and create a new column \"clean_text\" for it."
   ]
  },
  {
   "cell_type": "code",
   "execution_count": 87,
   "id": "99f47086",
   "metadata": {},
   "outputs": [],
   "source": [
    "train_insurance['clean_text'] = train_insurance['text'].apply(lambda x: remove_stop_words(x))"
   ]
  },
  {
   "cell_type": "markdown",
   "id": "26f8a4ba",
   "metadata": {},
   "source": [
    "Now that we have applied the function that removes all the stop words, let preview a random cell in the data now."
   ]
  },
  {
   "cell_type": "code",
   "execution_count": 88,
   "id": "8c01a623",
   "metadata": {},
   "outputs": [
    {
     "data": {
      "text/plain": [
       "3043    ngesiqunto esithethweko esimalungana nokubhada...\n",
       "Name: clean_text, dtype: object"
      ]
     },
     "execution_count": 88,
     "metadata": {},
     "output_type": "execute_result"
    }
   ],
   "source": [
    "#You can rerun this cell to view random cells\n",
    "train_insurance['clean_text'].sample()"
   ]
  },
  {
   "cell_type": "markdown",
   "id": "82099ee3",
   "metadata": {},
   "source": [
    "We are done with the cleaning of the data. However, recall that all the cleaning was done on the \"insurance\" data we created above. So, let's combine all the functions we used to clean the insurance dataset and apply it on the real train and test data."
   ]
  },
  {
   "cell_type": "code",
   "execution_count": 89,
   "id": "14463e8a",
   "metadata": {},
   "outputs": [],
   "source": [
    "#Remove urls in the text and replaces with 'url-web'\n",
    "pattern_url = r'http[s]?://(?:[A-Za-z]|[0-9]|[$-_@.&+]|[!*\\(\\),]|(?:%[0-9A-Fa-f][0-9A-Fa-f]))+'\n",
    "subs_url = r'url-web'\n",
    "df_train['text'] = df_train['text'].replace(to_replace = pattern_url,\n",
    "                                                                value = subs_url,\n",
    "                                                                regex = True)\n",
    "\n",
    "pattern_url = r'http[s]?://(?:[A-Za-z]|[0-9]|[$-_@.&+]|[!*\\(\\),]|(?:%[0-9A-Fa-f][0-9A-Fa-f]))+'\n",
    "subs_url = r'url-web'\n",
    "df_test['text'] = df_test['text'].replace(to_replace = pattern_url,\n",
    "                                                                value = subs_url,\n",
    "                                                                regex = True)\n"
   ]
  },
  {
   "cell_type": "code",
   "execution_count": 90,
   "id": "da6685fa",
   "metadata": {},
   "outputs": [],
   "source": [
    "#Makes all the text lower case\n",
    "df_train['cleaned_text'] = df_train['text'].str.lower()\n",
    "\n",
    "df_test['cleaned_text'] = df_test['text'].str.lower()"
   ]
  },
  {
   "cell_type": "code",
   "execution_count": 91,
   "id": "16d9e497",
   "metadata": {},
   "outputs": [],
   "source": [
    "#Removes punctuations\n",
    "df_train['cleaned_text'] = df_train['text'].apply(remove_punctuation)\n",
    "\n",
    "df_test['cleaned_text'] = df_test['text'].apply(remove_punctuation)"
   ]
  },
  {
   "cell_type": "code",
   "execution_count": 92,
   "id": "d3c0b349",
   "metadata": {},
   "outputs": [],
   "source": [
    "#Removes stopwords\n",
    "df_train['cleaned_text'] = df_train['text'].apply(lambda x: remove_stop_words(x))\n",
    "\n",
    "df_test['cleaned_text'] = df_test['text'].apply(lambda x: remove_stop_words(x))"
   ]
  },
  {
   "cell_type": "markdown",
   "id": "52bdeaec",
   "metadata": {},
   "source": [
    "Here is a glance of the cleaned datasets"
   ]
  },
  {
   "cell_type": "code",
   "execution_count": 93,
   "id": "47690805",
   "metadata": {},
   "outputs": [
    {
     "data": {
      "text/html": [
       "<div>\n",
       "<style scoped>\n",
       "    .dataframe tbody tr th:only-of-type {\n",
       "        vertical-align: middle;\n",
       "    }\n",
       "\n",
       "    .dataframe tbody tr th {\n",
       "        vertical-align: top;\n",
       "    }\n",
       "\n",
       "    .dataframe thead th {\n",
       "        text-align: right;\n",
       "    }\n",
       "</style>\n",
       "<table border=\"1\" class=\"dataframe\">\n",
       "  <thead>\n",
       "    <tr style=\"text-align: right;\">\n",
       "      <th></th>\n",
       "      <th>lang_id</th>\n",
       "      <th>text</th>\n",
       "      <th>cleaned_text</th>\n",
       "    </tr>\n",
       "  </thead>\n",
       "  <tbody>\n",
       "    <tr>\n",
       "      <th>0</th>\n",
       "      <td>xho</td>\n",
       "      <td>umgaqo-siseko wenza amalungiselelo kumaziko ax...</td>\n",
       "      <td>umgaqo siseko wenza amalungiselelo kumaziko ax...</td>\n",
       "    </tr>\n",
       "    <tr>\n",
       "      <th>1</th>\n",
       "      <td>xho</td>\n",
       "      <td>i-dha iya kuba nobulumko bokubeka umsebenzi na...</td>\n",
       "      <td>i dha iya kuba nobulumko bokubeka umsebenzi na...</td>\n",
       "    </tr>\n",
       "    <tr>\n",
       "      <th>2</th>\n",
       "      <td>eng</td>\n",
       "      <td>the province of kwazulu-natal department of tr...</td>\n",
       "      <td>province kwazulu natal department transport in...</td>\n",
       "    </tr>\n",
       "    <tr>\n",
       "      <th>3</th>\n",
       "      <td>nso</td>\n",
       "      <td>o netefatša gore o ba file dilo ka moka tše le...</td>\n",
       "      <td>o netefat a gore o ba file dilo ka moka t e le...</td>\n",
       "    </tr>\n",
       "    <tr>\n",
       "      <th>4</th>\n",
       "      <td>ven</td>\n",
       "      <td>khomishini ya ndinganyiso ya mbeu yo ewa maana...</td>\n",
       "      <td>khomishini ya ndinganyiso ya mbeu yo ewa maana...</td>\n",
       "    </tr>\n",
       "    <tr>\n",
       "      <th>...</th>\n",
       "      <td>...</td>\n",
       "      <td>...</td>\n",
       "      <td>...</td>\n",
       "    </tr>\n",
       "    <tr>\n",
       "      <th>32995</th>\n",
       "      <td>tsn</td>\n",
       "      <td>popo ya dipolateforomo tse ke go tlisa boetele...</td>\n",
       "      <td>popo ya dipolateforomo tse ke go tlisa boetele...</td>\n",
       "    </tr>\n",
       "    <tr>\n",
       "      <th>32996</th>\n",
       "      <td>sot</td>\n",
       "      <td>modise mosadi na o ntse o sa utlwe hore thaban...</td>\n",
       "      <td>modise mosadi na o ntse o sa utlwe hore thaban...</td>\n",
       "    </tr>\n",
       "    <tr>\n",
       "      <th>32997</th>\n",
       "      <td>eng</td>\n",
       "      <td>closing date for the submission of completed t...</td>\n",
       "      <td>closing date submission completed tenders augu...</td>\n",
       "    </tr>\n",
       "    <tr>\n",
       "      <th>32998</th>\n",
       "      <td>xho</td>\n",
       "      <td>nawuphina umntu ofunyenwe enetyala phantsi kwa...</td>\n",
       "      <td>nawuphina umntu ofunyenwe enetyala phantsi kwa...</td>\n",
       "    </tr>\n",
       "    <tr>\n",
       "      <th>32999</th>\n",
       "      <td>sot</td>\n",
       "      <td>mafapha a mang le ona a lokela ho etsa ditlale...</td>\n",
       "      <td>mafapha mang le ona lokela ho etsa ditlaleho t...</td>\n",
       "    </tr>\n",
       "  </tbody>\n",
       "</table>\n",
       "<p>33000 rows × 3 columns</p>\n",
       "</div>"
      ],
      "text/plain": [
       "      lang_id                                               text  \\\n",
       "0         xho  umgaqo-siseko wenza amalungiselelo kumaziko ax...   \n",
       "1         xho  i-dha iya kuba nobulumko bokubeka umsebenzi na...   \n",
       "2         eng  the province of kwazulu-natal department of tr...   \n",
       "3         nso  o netefatša gore o ba file dilo ka moka tše le...   \n",
       "4         ven  khomishini ya ndinganyiso ya mbeu yo ewa maana...   \n",
       "...       ...                                                ...   \n",
       "32995     tsn  popo ya dipolateforomo tse ke go tlisa boetele...   \n",
       "32996     sot  modise mosadi na o ntse o sa utlwe hore thaban...   \n",
       "32997     eng  closing date for the submission of completed t...   \n",
       "32998     xho  nawuphina umntu ofunyenwe enetyala phantsi kwa...   \n",
       "32999     sot  mafapha a mang le ona a lokela ho etsa ditlale...   \n",
       "\n",
       "                                            cleaned_text  \n",
       "0      umgaqo siseko wenza amalungiselelo kumaziko ax...  \n",
       "1      i dha iya kuba nobulumko bokubeka umsebenzi na...  \n",
       "2      province kwazulu natal department transport in...  \n",
       "3      o netefat a gore o ba file dilo ka moka t e le...  \n",
       "4      khomishini ya ndinganyiso ya mbeu yo ewa maana...  \n",
       "...                                                  ...  \n",
       "32995  popo ya dipolateforomo tse ke go tlisa boetele...  \n",
       "32996  modise mosadi na o ntse o sa utlwe hore thaban...  \n",
       "32997  closing date submission completed tenders augu...  \n",
       "32998  nawuphina umntu ofunyenwe enetyala phantsi kwa...  \n",
       "32999  mafapha mang le ona lokela ho etsa ditlaleho t...  \n",
       "\n",
       "[33000 rows x 3 columns]"
      ]
     },
     "execution_count": 93,
     "metadata": {},
     "output_type": "execute_result"
    }
   ],
   "source": [
    "#Prints out the first and last 5 rows of the train data\n",
    "df_train"
   ]
  },
  {
   "cell_type": "code",
   "execution_count": 94,
   "id": "79fd7f4b",
   "metadata": {},
   "outputs": [
    {
     "data": {
      "text/html": [
       "<div>\n",
       "<style scoped>\n",
       "    .dataframe tbody tr th:only-of-type {\n",
       "        vertical-align: middle;\n",
       "    }\n",
       "\n",
       "    .dataframe tbody tr th {\n",
       "        vertical-align: top;\n",
       "    }\n",
       "\n",
       "    .dataframe thead th {\n",
       "        text-align: right;\n",
       "    }\n",
       "</style>\n",
       "<table border=\"1\" class=\"dataframe\">\n",
       "  <thead>\n",
       "    <tr style=\"text-align: right;\">\n",
       "      <th></th>\n",
       "      <th>index</th>\n",
       "      <th>text</th>\n",
       "      <th>cleaned_text</th>\n",
       "    </tr>\n",
       "  </thead>\n",
       "  <tbody>\n",
       "    <tr>\n",
       "      <th>0</th>\n",
       "      <td>1</td>\n",
       "      <td>Mmasepala, fa maemo a a kgethegileng a letlele...</td>\n",
       "      <td>Mmasepala  fa maemo kgethegileng letlelela kga...</td>\n",
       "    </tr>\n",
       "    <tr>\n",
       "      <th>1</th>\n",
       "      <td>2</td>\n",
       "      <td>Uzakwaziswa ngokufaneleko nakungafuneka eminye...</td>\n",
       "      <td>Uzakwaziswa ngokufaneleko nakungafuneka eminye...</td>\n",
       "    </tr>\n",
       "    <tr>\n",
       "      <th>2</th>\n",
       "      <td>3</td>\n",
       "      <td>Tshivhumbeo tshi fana na ngano dza vhathu.</td>\n",
       "      <td>Tshivhumbeo tshi fana na ngano dza vhathu</td>\n",
       "    </tr>\n",
       "    <tr>\n",
       "      <th>3</th>\n",
       "      <td>4</td>\n",
       "      <td>Kube inja nelikati betingevakala kutsi titsini...</td>\n",
       "      <td>Kube inja nelikati betingevakala kutsi titsini...</td>\n",
       "    </tr>\n",
       "    <tr>\n",
       "      <th>4</th>\n",
       "      <td>5</td>\n",
       "      <td>Winste op buitelandse valuta.</td>\n",
       "      <td>Winste op buitelandse valuta</td>\n",
       "    </tr>\n",
       "    <tr>\n",
       "      <th>...</th>\n",
       "      <td>...</td>\n",
       "      <td>...</td>\n",
       "      <td>...</td>\n",
       "    </tr>\n",
       "    <tr>\n",
       "      <th>5677</th>\n",
       "      <td>5678</td>\n",
       "      <td>You mark your ballot in private.</td>\n",
       "      <td>You mark your ballot in private</td>\n",
       "    </tr>\n",
       "    <tr>\n",
       "      <th>5678</th>\n",
       "      <td>5679</td>\n",
       "      <td>Ge o ka kgetha ka bowena go se šomiše Mofani k...</td>\n",
       "      <td>Ge o ka kgetha ka bowena go se  omi e Mofani k...</td>\n",
       "    </tr>\n",
       "    <tr>\n",
       "      <th>5679</th>\n",
       "      <td>5680</td>\n",
       "      <td>E Ka kopo etsa kgetho ya hao ka hloko, hobane ...</td>\n",
       "      <td>E Ka kopo etsa kgetho ya hao ka hloko  hobane ...</td>\n",
       "    </tr>\n",
       "    <tr>\n",
       "      <th>5680</th>\n",
       "      <td>5681</td>\n",
       "      <td>TB ke bokudi ba PMB, mme Morero o tla lefella ...</td>\n",
       "      <td>TB ke bokudi ba PMB  mme Morero o tla lefella ...</td>\n",
       "    </tr>\n",
       "    <tr>\n",
       "      <th>5681</th>\n",
       "      <td>5682</td>\n",
       "      <td>Vakatjhela iwebhusayidi yethu ku-www.</td>\n",
       "      <td>Vakatjhela iwebhusayidi yethu ku www</td>\n",
       "    </tr>\n",
       "  </tbody>\n",
       "</table>\n",
       "<p>5682 rows × 3 columns</p>\n",
       "</div>"
      ],
      "text/plain": [
       "      index                                               text  \\\n",
       "0         1  Mmasepala, fa maemo a a kgethegileng a letlele...   \n",
       "1         2  Uzakwaziswa ngokufaneleko nakungafuneka eminye...   \n",
       "2         3         Tshivhumbeo tshi fana na ngano dza vhathu.   \n",
       "3         4  Kube inja nelikati betingevakala kutsi titsini...   \n",
       "4         5                      Winste op buitelandse valuta.   \n",
       "...     ...                                                ...   \n",
       "5677   5678                   You mark your ballot in private.   \n",
       "5678   5679  Ge o ka kgetha ka bowena go se šomiše Mofani k...   \n",
       "5679   5680  E Ka kopo etsa kgetho ya hao ka hloko, hobane ...   \n",
       "5680   5681  TB ke bokudi ba PMB, mme Morero o tla lefella ...   \n",
       "5681   5682              Vakatjhela iwebhusayidi yethu ku-www.   \n",
       "\n",
       "                                           cleaned_text  \n",
       "0     Mmasepala  fa maemo kgethegileng letlelela kga...  \n",
       "1     Uzakwaziswa ngokufaneleko nakungafuneka eminye...  \n",
       "2            Tshivhumbeo tshi fana na ngano dza vhathu   \n",
       "3     Kube inja nelikati betingevakala kutsi titsini...  \n",
       "4                         Winste op buitelandse valuta   \n",
       "...                                                 ...  \n",
       "5677                   You mark your ballot in private   \n",
       "5678  Ge o ka kgetha ka bowena go se  omi e Mofani k...  \n",
       "5679  E Ka kopo etsa kgetho ya hao ka hloko  hobane ...  \n",
       "5680  TB ke bokudi ba PMB  mme Morero o tla lefella ...  \n",
       "5681              Vakatjhela iwebhusayidi yethu ku www   \n",
       "\n",
       "[5682 rows x 3 columns]"
      ]
     },
     "execution_count": 94,
     "metadata": {},
     "output_type": "execute_result"
    }
   ],
   "source": [
    "#Prints out the first and last 5 rows of the test data\n",
    "df_test"
   ]
  },
  {
   "cell_type": "markdown",
   "id": "026486df",
   "metadata": {},
   "source": [
    "### Feature Engineering\n",
    "Now that we have cleaned the datasets, the next for us to do is to split into dependent and target variables. The convention is to assign \"X\" as the dependent varaible and \"y\" as the target variable."
   ]
  },
  {
   "cell_type": "code",
   "execution_count": 95,
   "id": "afc0104b",
   "metadata": {},
   "outputs": [],
   "source": [
    "#Assigns X to the 'cleaned_text' column\n",
    "X = df_train['cleaned_text']\n",
    "\n",
    "#assigns y to the 'lang_id' column\n",
    "y = df_train['lang_id']"
   ]
  },
  {
   "cell_type": "markdown",
   "id": "e4040c3e",
   "metadata": {},
   "source": [
    "With all these, we have come to the end of the Data Engineering section.\n",
    "\n",
    "Let's begin to build our ML models."
   ]
  },
  {
   "cell_type": "markdown",
   "id": "43b2d523",
   "metadata": {},
   "source": [
    "<a id=\"five\"></a>\n",
    "## 5. Modelling\n",
    "<a class=\"anchor\" id=\"1.1\"></a>\n",
    "<a href=#cont>Back to Table of Contents</a>\n",
    "\n",
    "---\n",
    "    \n",
    "| ⚡ Description: Modelling ⚡ |\n",
    "| :--------------------------- |\n",
    "| In this section, I created several Machine Learning (ML) models to classify the languages accordingly. |\n",
    "\n",
    "---"
   ]
  },
  {
   "cell_type": "markdown",
   "id": "70f12b02",
   "metadata": {},
   "source": [
    "### `Train_Test_Split`\n",
    "\n",
    "As the custom is, we will start building our models by first splitting the train data usinng sklearn's train_test_split."
   ]
  },
  {
   "cell_type": "code",
   "execution_count": 96,
   "id": "2344b3e0",
   "metadata": {},
   "outputs": [],
   "source": [
    "# split data\n",
    "\n",
    "X_train, X_test, y_train, y_test = train_test_split(X, y, stratify=y,\n",
    "                                                    test_size=0.2,\n",
    "                                                    random_state=42)"
   ]
  },
  {
   "cell_type": "markdown",
   "id": "72b48c15",
   "metadata": {},
   "source": [
    "In the next two cells, we will define the model names and call the model implementation classes."
   ]
  },
  {
   "cell_type": "code",
   "execution_count": 97,
   "id": "22e7e0a4",
   "metadata": {},
   "outputs": [],
   "source": [
    "names = ['Logistic Regression', 'Nearest Neighbors', \n",
    "         'Linear SVM', 'RBF SVM',          \n",
    "         'Decision Tree', 'Random Forest',  'AdaBoost']"
   ]
  },
  {
   "cell_type": "code",
   "execution_count": 98,
   "id": "70df7733",
   "metadata": {},
   "outputs": [],
   "source": [
    "classifiers = [\n",
    "    LogisticRegression(), \n",
    "    KNeighborsClassifier(3),\n",
    "    SVC(kernel=\"linear\", C=0.025),\n",
    "    SVC(gamma=2, C=1),\n",
    "    DecisionTreeClassifier(max_depth=5),\n",
    "    RandomForestClassifier(max_depth=5, n_estimators=10, max_features=1),    \n",
    "    AdaBoostClassifier()\n",
    "]"
   ]
  },
  {
   "cell_type": "code",
   "execution_count": null,
   "id": "e3b3cffa",
   "metadata": {},
   "outputs": [],
   "source": []
  },
  {
   "cell_type": "code",
   "execution_count": 99,
   "id": "7e451f09",
   "metadata": {},
   "outputs": [],
   "source": [
    "alg = ['Logistic Regression',\n",
    "        'MultinomialNB',\n",
    "        'RidgeClassifier', \n",
    "        'SGDClassifier',          \n",
    "        'LinearSVC']"
   ]
  },
  {
   "cell_type": "code",
   "execution_count": 100,
   "metadata": {},
   "outputs": [],
   "source": [
    "def assesment(*args , **kwargs):\n",
    "  model_stats = {}\n",
    "  for clf in alg:\n",
    "    model = Pipeline([('tfidf', TfidfVectorizer(stop_words = 'english', max_df=0.9, ngram_range=(1, 3), analyzer= 'char')),\n",
    "                      ('clf' , clf)\n",
    "                      ])\n",
    "    \n",
    "    print('Fitting {:s} model...'.format(alg))\n",
    "    model.fit(X_train, y_train) #Training\n",
    "\n",
    "    print ('... predicting')\n",
    "    model_pred = model.predict(X_test) #Testing\n",
    "\n",
    "    # Dictionary of Models Performances\n",
    "    print ('... scoring')\n",
    "    model_stats[clf.__class__.__name__] = {\n",
    "        'F1-Macro':metrics.f1_score(y_test, model_pred, average='macro'),\n",
    "        'F1-Accuracy':metrics.f1_score(y_test, model_pred, average='micro'),\n",
    "        'F1-Weighted':metrics.f1_score(y_test, model_pred, average='weighted')}\n",
    "  return pd.DataFrame.from_dict(model_stats, orient='index')\n"
   ]
  },
  {
   "cell_type": "markdown",
   "id": "159d8354",
   "metadata": {},
   "source": [
    "That's all done! Now let's take a look at the results."
   ]
  },
  {
   "cell_type": "code",
   "execution_count": 101,
   "id": "2607a554",
   "metadata": {},
   "outputs": [
    {
     "ename": "TypeError",
     "evalue": "unsupported format string passed to list.__format__",
     "output_type": "error",
     "traceback": [
      "\u001b[1;31m---------------------------------------------------------------------------\u001b[0m",
      "\u001b[1;31mTypeError\u001b[0m                                 Traceback (most recent call last)",
      "\u001b[1;32mc:\\Users\\Administrator\\Documents\\GitHub\\South-African-Language-Identification-Hack-2022\\starter-notebook.ipynb Cell 61'\u001b[0m in \u001b[0;36m<cell line: 1>\u001b[1;34m()\u001b[0m\n\u001b[1;32m----> <a href='vscode-notebook-cell:/c%3A/Users/Administrator/Documents/GitHub/South-African-Language-Identification-Hack-2022/starter-notebook.ipynb#ch0000098?line=0'>1</a>\u001b[0m performance \u001b[39m=\u001b[39m assesment(alg , X_train , X_test , y_train , y_test)\n\u001b[0;32m      <a href='vscode-notebook-cell:/c%3A/Users/Administrator/Documents/GitHub/South-African-Language-Identification-Hack-2022/starter-notebook.ipynb#ch0000098?line=1'>2</a>\u001b[0m performance\u001b[39m.\u001b[39mto_csv(\u001b[39m'\u001b[39m\u001b[39mperformance.csv\u001b[39m\u001b[39m'\u001b[39m)\n\u001b[0;32m      <a href='vscode-notebook-cell:/c%3A/Users/Administrator/Documents/GitHub/South-African-Language-Identification-Hack-2022/starter-notebook.ipynb#ch0000098?line=2'>3</a>\u001b[0m dataframe \u001b[39m=\u001b[39m pd\u001b[39m.\u001b[39mread_csv(\u001b[39m'\u001b[39m\u001b[39mperformance.csv\u001b[39m\u001b[39m'\u001b[39m, index_col \u001b[39m=\u001b[39m \u001b[39m0\u001b[39m)\n",
      "\u001b[1;32mc:\\Users\\Administrator\\Documents\\GitHub\\South-African-Language-Identification-Hack-2022\\starter-notebook.ipynb Cell 59'\u001b[0m in \u001b[0;36massesment\u001b[1;34m(*args, **kwargs)\u001b[0m\n\u001b[0;32m      <a href='vscode-notebook-cell:/c%3A/Users/Administrator/Documents/GitHub/South-African-Language-Identification-Hack-2022/starter-notebook.ipynb#ch0000097?line=2'>3</a>\u001b[0m \u001b[39mfor\u001b[39;00m clf \u001b[39min\u001b[39;00m alg:\n\u001b[0;32m      <a href='vscode-notebook-cell:/c%3A/Users/Administrator/Documents/GitHub/South-African-Language-Identification-Hack-2022/starter-notebook.ipynb#ch0000097?line=3'>4</a>\u001b[0m   model \u001b[39m=\u001b[39m Pipeline([(\u001b[39m'\u001b[39m\u001b[39mtfidf\u001b[39m\u001b[39m'\u001b[39m, TfidfVectorizer(stop_words \u001b[39m=\u001b[39m \u001b[39m'\u001b[39m\u001b[39menglish\u001b[39m\u001b[39m'\u001b[39m, max_df\u001b[39m=\u001b[39m\u001b[39m0.9\u001b[39m, ngram_range\u001b[39m=\u001b[39m(\u001b[39m1\u001b[39m, \u001b[39m3\u001b[39m), analyzer\u001b[39m=\u001b[39m \u001b[39m'\u001b[39m\u001b[39mchar\u001b[39m\u001b[39m'\u001b[39m)),\n\u001b[0;32m      <a href='vscode-notebook-cell:/c%3A/Users/Administrator/Documents/GitHub/South-African-Language-Identification-Hack-2022/starter-notebook.ipynb#ch0000097?line=4'>5</a>\u001b[0m                     (\u001b[39m'\u001b[39m\u001b[39mclf\u001b[39m\u001b[39m'\u001b[39m , clf)\n\u001b[0;32m      <a href='vscode-notebook-cell:/c%3A/Users/Administrator/Documents/GitHub/South-African-Language-Identification-Hack-2022/starter-notebook.ipynb#ch0000097?line=5'>6</a>\u001b[0m                     ])\n\u001b[1;32m----> <a href='vscode-notebook-cell:/c%3A/Users/Administrator/Documents/GitHub/South-African-Language-Identification-Hack-2022/starter-notebook.ipynb#ch0000097?line=7'>8</a>\u001b[0m   \u001b[39mprint\u001b[39m(\u001b[39m'\u001b[39;49m\u001b[39mFitting \u001b[39;49m\u001b[39m{:s}\u001b[39;49;00m\u001b[39m model...\u001b[39;49m\u001b[39m'\u001b[39;49m\u001b[39m.\u001b[39;49mformat(alg))\n\u001b[0;32m      <a href='vscode-notebook-cell:/c%3A/Users/Administrator/Documents/GitHub/South-African-Language-Identification-Hack-2022/starter-notebook.ipynb#ch0000097?line=8'>9</a>\u001b[0m   model\u001b[39m.\u001b[39mfit(X_train, y_train) \u001b[39m#Training\u001b[39;00m\n\u001b[0;32m     <a href='vscode-notebook-cell:/c%3A/Users/Administrator/Documents/GitHub/South-African-Language-Identification-Hack-2022/starter-notebook.ipynb#ch0000097?line=10'>11</a>\u001b[0m   \u001b[39mprint\u001b[39m (\u001b[39m'\u001b[39m\u001b[39m... predicting\u001b[39m\u001b[39m'\u001b[39m)\n",
      "\u001b[1;31mTypeError\u001b[0m: unsupported format string passed to list.__format__"
     ]
    }
   ],
   "source": [
    "performance = assesment(alg , X_train , X_test , y_train , y_test)\n",
    "performance.to_csv('performance.csv')\n",
    "dataframe = pd.read_csv('performance.csv', index_col = 0)\n",
    "dataframe.sort_values('F1-Weighted', ascending=False)"
   ]
  },
  {
   "cell_type": "markdown",
   "id": "70b65644",
   "metadata": {},
   "source": [
    "From the table of values above, we can see that the LogisticRegression model performed best.\n",
    "\n",
    "How about we fine tune the hyperparameters of these models/"
   ]
  },
  {
   "cell_type": "markdown",
   "id": "960c0e0a",
   "metadata": {},
   "source": [
    "## Hyperparameter Tuning"
   ]
  },
  {
   "cell_type": "markdown",
   "id": "606902f3",
   "metadata": {},
   "source": [
    "First off, let's create a function \"parameters_tuning\" that non-key word argument and key word argument and returns the best among them all."
   ]
  },
  {
   "cell_type": "code",
   "execution_count": null,
   "id": "009c82eb",
   "metadata": {},
   "outputs": [],
   "source": [
    "def parameters_tuning(*args , **kwargs):\n",
    "  best_params = {}\n",
    "\n",
    "  for clf in alg:\n",
    "    model = Pipeline([('tfidf', TfidfVectorizer(stop_words = 'english', max_df=0.9, ngram_range=(1, 5), analyzer= 'char')),\n",
    "                      ('clf' , clf)])\n",
    "    model.fit(X_train, y_train) #Training\n",
    "    \n",
    "    #Get models performing parameters\n",
    "    params = model.get_params()\n",
    "    model_name = clf.__class__.__name__ \n",
    "    model_name = {}\n",
    "    for key in params:\n",
    "      if key.startswith(\"clf\"):\n",
    "        if len(key) < 5:\n",
    "          model_name['model'] = params[key]\n",
    "        else:\n",
    "            model_name[key[5:]] = params[key]\n",
    "    best_params[clf.__class__.__name__] = model_name\n",
    "  return best_params"
   ]
  },
  {
   "cell_type": "code",
   "execution_count": null,
   "id": "80868950",
   "metadata": {},
   "outputs": [],
   "source": [
    "best_parameter = parameters_tuning(alg, X_train, y_train)"
   ]
  },
  {
   "cell_type": "markdown",
   "id": "779786a3",
   "metadata": {},
   "source": [
    "Let's take a view of the best performing parameters"
   ]
  },
  {
   "cell_type": "code",
   "execution_count": null,
   "id": "dbf9c802",
   "metadata": {},
   "outputs": [
    {
     "data": {
      "text/plain": [
       "{'LogisticRegression': {'model': LogisticRegression(max_iter=10000, random_state=42),\n",
       "  'C': 1.0,\n",
       "  'class_weight': None,\n",
       "  'dual': False,\n",
       "  'fit_intercept': True,\n",
       "  'intercept_scaling': 1,\n",
       "  'l1_ratio': None,\n",
       "  'max_iter': 10000,\n",
       "  'multi_class': 'auto',\n",
       "  'n_jobs': None,\n",
       "  'penalty': 'l2',\n",
       "  'random_state': 42,\n",
       "  'solver': 'lbfgs',\n",
       "  'tol': 0.0001,\n",
       "  'verbose': 0,\n",
       "  'warm_start': False},\n",
       " 'MultinomialNB': {'model': MultinomialNB(),\n",
       "  'alpha': 1.0,\n",
       "  'class_prior': None,\n",
       "  'fit_prior': True},\n",
       " 'RidgeClassifier': {'model': RidgeClassifier(random_state=42),\n",
       "  'alpha': 1.0,\n",
       "  'class_weight': None,\n",
       "  'copy_X': True,\n",
       "  'fit_intercept': True,\n",
       "  'max_iter': None,\n",
       "  'normalize': 'deprecated',\n",
       "  'positive': False,\n",
       "  'random_state': 42,\n",
       "  'solver': 'auto',\n",
       "  'tol': 0.001},\n",
       " 'SGDClassifier': {'model': SGDClassifier(random_state=42),\n",
       "  'alpha': 0.0001,\n",
       "  'average': False,\n",
       "  'class_weight': None,\n",
       "  'early_stopping': False,\n",
       "  'epsilon': 0.1,\n",
       "  'eta0': 0.0,\n",
       "  'fit_intercept': True,\n",
       "  'l1_ratio': 0.15,\n",
       "  'learning_rate': 'optimal',\n",
       "  'loss': 'hinge',\n",
       "  'max_iter': 1000,\n",
       "  'n_iter_no_change': 5,\n",
       "  'n_jobs': None,\n",
       "  'penalty': 'l2',\n",
       "  'power_t': 0.5,\n",
       "  'random_state': 42,\n",
       "  'shuffle': True,\n",
       "  'tol': 0.001,\n",
       "  'validation_fraction': 0.1,\n",
       "  'verbose': 0,\n",
       "  'warm_start': False},\n",
       " 'LinearSVC': {'model': LinearSVC(random_state=42),\n",
       "  'C': 1.0,\n",
       "  'class_weight': None,\n",
       "  'dual': True,\n",
       "  'fit_intercept': True,\n",
       "  'intercept_scaling': 1,\n",
       "  'loss': 'squared_hinge',\n",
       "  'max_iter': 1000,\n",
       "  'multi_class': 'ovr',\n",
       "  'penalty': 'l2',\n",
       "  'random_state': 42,\n",
       "  'tol': 0.0001,\n",
       "  'verbose': 0}}"
      ]
     },
     "execution_count": 59,
     "metadata": {},
     "output_type": "execute_result"
    }
   ],
   "source": [
    "#Prints out the  \n",
    "best_parameter"
   ]
  },
  {
   "cell_type": "markdown",
   "id": "462f5fbc",
   "metadata": {},
   "source": [
    "From the result above, it can be seen that the two best models are `MultinomialNB()` and `RidgeClassifier`. \n",
    "So, let's focus more on these and see how we can fine-tune the parameters using hyperparameter tuning."
   ]
  },
  {
   "cell_type": "markdown",
   "id": "d8ca50b8",
   "metadata": {},
   "source": [
    "We  begin by creating a function"
   ]
  },
  {
   "cell_type": "code",
   "execution_count": null,
   "id": "53b12042",
   "metadata": {},
   "outputs": [],
   "source": [
    "def hyperparameters                (*args , **kwargs):\n",
    "  best_params = {}\n",
    "\n",
    "  for clf in alg:\n",
    "    model = Pipeline([('tfidf', TfidfVectorizer(stop_words = 'english', max_df=0.9, ngram_range=(1, 5), analyzer= 'char')),\n",
    "                      ('clf' , clf)])\n",
    "    model.fit(X_train, y_train) #Training\n",
    "    \n",
    "    #Get models performing parameters\n",
    "    params = model.get_params()\n",
    "    model_name = clf.__class__.__name__ \n",
    "    model_name = {}\n",
    "    for key in params:\n",
    "      if key.startswith(\"clf\"):\n",
    "        if len(key) < 5:\n",
    "          model_name['model'] = params[key]\n",
    "        else:\n",
    "            model_name[key[5:]] = params[key]\n",
    "    best_params[clf.__class__.__name__] = model_name\n",
    "  return best_params"
   ]
  },
  {
   "cell_type": "markdown",
   "id": "06e21f60",
   "metadata": {},
   "source": [
    "Very good of us. Let's now apply this to the X and y trains."
   ]
  },
  {
   "cell_type": "code",
   "execution_count": null,
   "id": "195ac647",
   "metadata": {},
   "outputs": [],
   "source": [
    "best_params_hyperparameters = hyperparameters(alg, X_train, y_train)"
   ]
  },
  {
   "cell_type": "code",
   "execution_count": null,
   "id": "7a436824",
   "metadata": {},
   "outputs": [
    {
     "data": {
      "text/plain": [
       "{'LogisticRegression': {'model': LogisticRegression(max_iter=10000, random_state=42),\n",
       "  'C': 1.0,\n",
       "  'class_weight': None,\n",
       "  'dual': False,\n",
       "  'fit_intercept': True,\n",
       "  'intercept_scaling': 1,\n",
       "  'l1_ratio': None,\n",
       "  'max_iter': 10000,\n",
       "  'multi_class': 'auto',\n",
       "  'n_jobs': None,\n",
       "  'penalty': 'l2',\n",
       "  'random_state': 42,\n",
       "  'solver': 'lbfgs',\n",
       "  'tol': 0.0001,\n",
       "  'verbose': 0,\n",
       "  'warm_start': False},\n",
       " 'MultinomialNB': {'model': MultinomialNB(),\n",
       "  'alpha': 1.0,\n",
       "  'class_prior': None,\n",
       "  'fit_prior': True},\n",
       " 'RidgeClassifier': {'model': RidgeClassifier(random_state=42),\n",
       "  'alpha': 1.0,\n",
       "  'class_weight': None,\n",
       "  'copy_X': True,\n",
       "  'fit_intercept': True,\n",
       "  'max_iter': None,\n",
       "  'normalize': 'deprecated',\n",
       "  'positive': False,\n",
       "  'random_state': 42,\n",
       "  'solver': 'auto',\n",
       "  'tol': 0.001},\n",
       " 'SGDClassifier': {'model': SGDClassifier(random_state=42),\n",
       "  'alpha': 0.0001,\n",
       "  'average': False,\n",
       "  'class_weight': None,\n",
       "  'early_stopping': False,\n",
       "  'epsilon': 0.1,\n",
       "  'eta0': 0.0,\n",
       "  'fit_intercept': True,\n",
       "  'l1_ratio': 0.15,\n",
       "  'learning_rate': 'optimal',\n",
       "  'loss': 'hinge',\n",
       "  'max_iter': 1000,\n",
       "  'n_iter_no_change': 5,\n",
       "  'n_jobs': None,\n",
       "  'penalty': 'l2',\n",
       "  'power_t': 0.5,\n",
       "  'random_state': 42,\n",
       "  'shuffle': True,\n",
       "  'tol': 0.001,\n",
       "  'validation_fraction': 0.1,\n",
       "  'verbose': 0,\n",
       "  'warm_start': False},\n",
       " 'LinearSVC': {'model': LinearSVC(random_state=42),\n",
       "  'C': 1.0,\n",
       "  'class_weight': None,\n",
       "  'dual': True,\n",
       "  'fit_intercept': True,\n",
       "  'intercept_scaling': 1,\n",
       "  'loss': 'squared_hinge',\n",
       "  'max_iter': 1000,\n",
       "  'multi_class': 'ovr',\n",
       "  'penalty': 'l2',\n",
       "  'random_state': 42,\n",
       "  'tol': 0.0001,\n",
       "  'verbose': 0}}"
      ]
     },
     "execution_count": 64,
     "metadata": {},
     "output_type": "execute_result"
    }
   ],
   "source": [
    "#Prints out the `best_params_hyperparameters`\n",
    "best_params_hyperparameters"
   ]
  },
  {
   "cell_type": "markdown",
   "id": "3ac53a51",
   "metadata": {},
   "source": [
    "Going hand-in-hand with the hyperparameter tuning is Grid search. So, let's search through the hyperparameters for optimum performance of the process.\n",
    "\n",
    "### GridSearchCV\n",
    "\n",
    "We will first begin by creating an instance for the model"
   ]
  },
  {
   "cell_type": "code",
   "execution_count": null,
   "id": "8cbe0a90",
   "metadata": {},
   "outputs": [],
   "source": [
    "model_MultinomialNB = MultinomialNB()"
   ]
  },
  {
   "cell_type": "code",
   "execution_count": 70,
   "id": "9c58df02",
   "metadata": {},
   "outputs": [
    {
     "ename": "AttributeError",
     "evalue": "lower not found",
     "output_type": "error",
     "traceback": [
      "\u001b[1;31m---------------------------------------------------------------------------\u001b[0m",
      "\u001b[1;31mAttributeError\u001b[0m                            Traceback (most recent call last)",
      "\u001b[1;32mc:\\Users\\Administrator\\Documents\\GitHub\\South-African-Language-Identification-Hack-2022\\starter-notebook.ipynb Cell 77'\u001b[0m in \u001b[0;36m<cell line: 2>\u001b[1;34m()\u001b[0m\n\u001b[0;32m      <a href='vscode-notebook-cell:/c%3A/Users/Administrator/Documents/GitHub/South-African-Language-Identification-Hack-2022/starter-notebook.ipynb#ch0000053?line=0'>1</a>\u001b[0m Vectorize \u001b[39m=\u001b[39m TfidfVectorizer(stop_words \u001b[39m=\u001b[39m \u001b[39m'\u001b[39m\u001b[39menglish\u001b[39m\u001b[39m'\u001b[39m, max_df\u001b[39m=\u001b[39m\u001b[39m0.9\u001b[39m, ngram_range\u001b[39m=\u001b[39m(\u001b[39m1\u001b[39m, \u001b[39m5\u001b[39m), analyzer\u001b[39m=\u001b[39m \u001b[39m'\u001b[39m\u001b[39mchar\u001b[39m\u001b[39m'\u001b[39m)\n\u001b[1;32m----> <a href='vscode-notebook-cell:/c%3A/Users/Administrator/Documents/GitHub/South-African-Language-Identification-Hack-2022/starter-notebook.ipynb#ch0000053?line=1'>2</a>\u001b[0m X_train \u001b[39m=\u001b[39m Vectorize\u001b[39m.\u001b[39;49mfit_transform(X_train)\n\u001b[0;32m      <a href='vscode-notebook-cell:/c%3A/Users/Administrator/Documents/GitHub/South-African-Language-Identification-Hack-2022/starter-notebook.ipynb#ch0000053?line=2'>3</a>\u001b[0m X_test \u001b[39m=\u001b[39m Vectorize\u001b[39m.\u001b[39mtransform(X_test)\n",
      "File \u001b[1;32mc:\\Users\\Administrator\\AppData\\Local\\Programs\\Python\\Python310\\lib\\site-packages\\sklearn\\feature_extraction\\text.py:2068\u001b[0m, in \u001b[0;36mTfidfVectorizer.fit_transform\u001b[1;34m(self, raw_documents, y)\u001b[0m\n\u001b[0;32m   2061\u001b[0m \u001b[39mself\u001b[39m\u001b[39m.\u001b[39m_check_params()\n\u001b[0;32m   2062\u001b[0m \u001b[39mself\u001b[39m\u001b[39m.\u001b[39m_tfidf \u001b[39m=\u001b[39m TfidfTransformer(\n\u001b[0;32m   2063\u001b[0m     norm\u001b[39m=\u001b[39m\u001b[39mself\u001b[39m\u001b[39m.\u001b[39mnorm,\n\u001b[0;32m   2064\u001b[0m     use_idf\u001b[39m=\u001b[39m\u001b[39mself\u001b[39m\u001b[39m.\u001b[39muse_idf,\n\u001b[0;32m   2065\u001b[0m     smooth_idf\u001b[39m=\u001b[39m\u001b[39mself\u001b[39m\u001b[39m.\u001b[39msmooth_idf,\n\u001b[0;32m   2066\u001b[0m     sublinear_tf\u001b[39m=\u001b[39m\u001b[39mself\u001b[39m\u001b[39m.\u001b[39msublinear_tf,\n\u001b[0;32m   2067\u001b[0m )\n\u001b[1;32m-> 2068\u001b[0m X \u001b[39m=\u001b[39m \u001b[39msuper\u001b[39;49m()\u001b[39m.\u001b[39;49mfit_transform(raw_documents)\n\u001b[0;32m   2069\u001b[0m \u001b[39mself\u001b[39m\u001b[39m.\u001b[39m_tfidf\u001b[39m.\u001b[39mfit(X)\n\u001b[0;32m   2070\u001b[0m \u001b[39m# X is already a transformed view of raw_documents so\u001b[39;00m\n\u001b[0;32m   2071\u001b[0m \u001b[39m# we set copy to False\u001b[39;00m\n",
      "File \u001b[1;32mc:\\Users\\Administrator\\AppData\\Local\\Programs\\Python\\Python310\\lib\\site-packages\\sklearn\\feature_extraction\\text.py:1328\u001b[0m, in \u001b[0;36mCountVectorizer.fit_transform\u001b[1;34m(self, raw_documents, y)\u001b[0m\n\u001b[0;32m   1320\u001b[0m             warnings\u001b[39m.\u001b[39mwarn(\n\u001b[0;32m   1321\u001b[0m                 \u001b[39m\"\u001b[39m\u001b[39mUpper case characters found in\u001b[39m\u001b[39m\"\u001b[39m\n\u001b[0;32m   1322\u001b[0m                 \u001b[39m\"\u001b[39m\u001b[39m vocabulary while \u001b[39m\u001b[39m'\u001b[39m\u001b[39mlowercase\u001b[39m\u001b[39m'\u001b[39m\u001b[39m\"\u001b[39m\n\u001b[0;32m   1323\u001b[0m                 \u001b[39m\"\u001b[39m\u001b[39m is True. These entries will not\u001b[39m\u001b[39m\"\u001b[39m\n\u001b[0;32m   1324\u001b[0m                 \u001b[39m\"\u001b[39m\u001b[39m be matched with any documents\u001b[39m\u001b[39m\"\u001b[39m\n\u001b[0;32m   1325\u001b[0m             )\n\u001b[0;32m   1326\u001b[0m             \u001b[39mbreak\u001b[39;00m\n\u001b[1;32m-> 1328\u001b[0m vocabulary, X \u001b[39m=\u001b[39m \u001b[39mself\u001b[39;49m\u001b[39m.\u001b[39;49m_count_vocab(raw_documents, \u001b[39mself\u001b[39;49m\u001b[39m.\u001b[39;49mfixed_vocabulary_)\n\u001b[0;32m   1330\u001b[0m \u001b[39mif\u001b[39;00m \u001b[39mself\u001b[39m\u001b[39m.\u001b[39mbinary:\n\u001b[0;32m   1331\u001b[0m     X\u001b[39m.\u001b[39mdata\u001b[39m.\u001b[39mfill(\u001b[39m1\u001b[39m)\n",
      "File \u001b[1;32mc:\\Users\\Administrator\\AppData\\Local\\Programs\\Python\\Python310\\lib\\site-packages\\sklearn\\feature_extraction\\text.py:1199\u001b[0m, in \u001b[0;36mCountVectorizer._count_vocab\u001b[1;34m(self, raw_documents, fixed_vocab)\u001b[0m\n\u001b[0;32m   1197\u001b[0m \u001b[39mfor\u001b[39;00m doc \u001b[39min\u001b[39;00m raw_documents:\n\u001b[0;32m   1198\u001b[0m     feature_counter \u001b[39m=\u001b[39m {}\n\u001b[1;32m-> 1199\u001b[0m     \u001b[39mfor\u001b[39;00m feature \u001b[39min\u001b[39;00m analyze(doc):\n\u001b[0;32m   1200\u001b[0m         \u001b[39mtry\u001b[39;00m:\n\u001b[0;32m   1201\u001b[0m             feature_idx \u001b[39m=\u001b[39m vocabulary[feature]\n",
      "File \u001b[1;32mc:\\Users\\Administrator\\AppData\\Local\\Programs\\Python\\Python310\\lib\\site-packages\\sklearn\\feature_extraction\\text.py:111\u001b[0m, in \u001b[0;36m_analyze\u001b[1;34m(doc, analyzer, tokenizer, ngrams, preprocessor, decoder, stop_words)\u001b[0m\n\u001b[0;32m    109\u001b[0m \u001b[39melse\u001b[39;00m:\n\u001b[0;32m    110\u001b[0m     \u001b[39mif\u001b[39;00m preprocessor \u001b[39mis\u001b[39;00m \u001b[39mnot\u001b[39;00m \u001b[39mNone\u001b[39;00m:\n\u001b[1;32m--> 111\u001b[0m         doc \u001b[39m=\u001b[39m preprocessor(doc)\n\u001b[0;32m    112\u001b[0m     \u001b[39mif\u001b[39;00m tokenizer \u001b[39mis\u001b[39;00m \u001b[39mnot\u001b[39;00m \u001b[39mNone\u001b[39;00m:\n\u001b[0;32m    113\u001b[0m         doc \u001b[39m=\u001b[39m tokenizer(doc)\n",
      "File \u001b[1;32mc:\\Users\\Administrator\\AppData\\Local\\Programs\\Python\\Python310\\lib\\site-packages\\sklearn\\feature_extraction\\text.py:69\u001b[0m, in \u001b[0;36m_preprocess\u001b[1;34m(doc, accent_function, lower)\u001b[0m\n\u001b[0;32m     50\u001b[0m \u001b[39m\"\"\"Chain together an optional series of text preprocessing steps to\u001b[39;00m\n\u001b[0;32m     51\u001b[0m \u001b[39mapply to a document.\u001b[39;00m\n\u001b[0;32m     52\u001b[0m \n\u001b[1;32m   (...)\u001b[0m\n\u001b[0;32m     66\u001b[0m \u001b[39m    preprocessed string\u001b[39;00m\n\u001b[0;32m     67\u001b[0m \u001b[39m\"\"\"\u001b[39;00m\n\u001b[0;32m     68\u001b[0m \u001b[39mif\u001b[39;00m lower:\n\u001b[1;32m---> 69\u001b[0m     doc \u001b[39m=\u001b[39m doc\u001b[39m.\u001b[39;49mlower()\n\u001b[0;32m     70\u001b[0m \u001b[39mif\u001b[39;00m accent_function \u001b[39mis\u001b[39;00m \u001b[39mnot\u001b[39;00m \u001b[39mNone\u001b[39;00m:\n\u001b[0;32m     71\u001b[0m     doc \u001b[39m=\u001b[39m accent_function(doc)\n",
      "File \u001b[1;32mc:\\Users\\Administrator\\AppData\\Local\\Programs\\Python\\Python310\\lib\\site-packages\\scipy\\sparse\\_base.py:761\u001b[0m, in \u001b[0;36mspmatrix.__getattr__\u001b[1;34m(self, attr)\u001b[0m\n\u001b[0;32m    759\u001b[0m     \u001b[39mreturn\u001b[39;00m \u001b[39mself\u001b[39m\u001b[39m.\u001b[39mgetnnz()\n\u001b[0;32m    760\u001b[0m \u001b[39melse\u001b[39;00m:\n\u001b[1;32m--> 761\u001b[0m     \u001b[39mraise\u001b[39;00m \u001b[39mAttributeError\u001b[39;00m(attr \u001b[39m+\u001b[39m \u001b[39m\"\u001b[39m\u001b[39m not found\u001b[39m\u001b[39m\"\u001b[39m)\n",
      "\u001b[1;31mAttributeError\u001b[0m: lower not found"
     ]
    }
   ],
   "source": [
    "Vectorize = TfidfVectorizer(stop_words = 'english', max_df=0.9, ngram_range=(1, 5), analyzer= 'char')\n",
    "X_train = Vectorize.fit_transform(X_train)\n",
    "X_test = Vectorize.transform(X_test)"
   ]
  },
  {
   "cell_type": "code",
   "execution_count": 69,
   "id": "022f7046",
   "metadata": {},
   "outputs": [],
   "source": [
    "stratified_kfold = StratifiedKFold(n_splits=5, shuffle=True,\n",
    "                                   random_state=42)"
   ]
  },
  {
   "cell_type": "code",
   "execution_count": 102,
   "id": "581b8c15",
   "metadata": {},
   "outputs": [
    {
     "ename": "KeyError",
     "evalue": "'str'",
     "output_type": "error",
     "traceback": [
      "\u001b[1;31m---------------------------------------------------------------------------\u001b[0m",
      "\u001b[1;31mKeyError\u001b[0m                                  Traceback (most recent call last)",
      "\u001b[1;32mc:\\Users\\Administrator\\Documents\\GitHub\\South-African-Language-Identification-Hack-2022\\starter-notebook.ipynb Cell 79'\u001b[0m in \u001b[0;36m<cell line: 1>\u001b[1;34m()\u001b[0m\n\u001b[1;32m----> <a href='vscode-notebook-cell:/c%3A/Users/Administrator/Documents/GitHub/South-African-Language-Identification-Hack-2022/starter-notebook.ipynb#ch0000116?line=0'>1</a>\u001b[0m best_params_hyperparameters[alg[\u001b[39m1\u001b[39;49m]\u001b[39m.\u001b[39;49m\u001b[39m__class__\u001b[39;49m\u001b[39m.\u001b[39;49m\u001b[39m__name__\u001b[39;49m]\n",
      "\u001b[1;31mKeyError\u001b[0m: 'str'"
     ]
    }
   ],
   "source": [
    "best_params_hyperparameters[alg[1].__class__.__name__]"
   ]
  },
  {
   "cell_type": "code",
   "execution_count": 103,
   "id": "0e324220",
   "metadata": {},
   "outputs": [
    {
     "ename": "NameError",
     "evalue": "name 'model1' is not defined",
     "output_type": "error",
     "traceback": [
      "\u001b[1;31m---------------------------------------------------------------------------\u001b[0m",
      "\u001b[1;31mNameError\u001b[0m                                 Traceback (most recent call last)",
      "\u001b[1;32mc:\\Users\\Administrator\\Documents\\GitHub\\South-African-Language-Identification-Hack-2022\\starter-notebook.ipynb Cell 80'\u001b[0m in \u001b[0;36m<cell line: 3>\u001b[1;34m()\u001b[0m\n\u001b[0;32m      <a href='vscode-notebook-cell:/c%3A/Users/Administrator/Documents/GitHub/South-African-Language-Identification-Hack-2022/starter-notebook.ipynb#ch0000121?line=0'>1</a>\u001b[0m alpha \u001b[39m=\u001b[39m \u001b[39mlist\u001b[39m(np\u001b[39m.\u001b[39mlinspace(\u001b[39m0.1\u001b[39m,\u001b[39m0.02\u001b[39m,\u001b[39m4\u001b[39m))\n\u001b[0;32m      <a href='vscode-notebook-cell:/c%3A/Users/Administrator/Documents/GitHub/South-African-Language-Identification-Hack-2022/starter-notebook.ipynb#ch0000121?line=1'>2</a>\u001b[0m param_grid \u001b[39m=\u001b[39m \u001b[39mdict\u001b[39m(alpha\u001b[39m=\u001b[39malpha)\n\u001b[1;32m----> <a href='vscode-notebook-cell:/c%3A/Users/Administrator/Documents/GitHub/South-African-Language-Identification-Hack-2022/starter-notebook.ipynb#ch0000121?line=2'>3</a>\u001b[0m grid_search \u001b[39m=\u001b[39m GridSearchCV(estimator\u001b[39m=\u001b[39m model1,\n\u001b[0;32m      <a href='vscode-notebook-cell:/c%3A/Users/Administrator/Documents/GitHub/South-African-Language-Identification-Hack-2022/starter-notebook.ipynb#ch0000121?line=3'>4</a>\u001b[0m                            param_grid\u001b[39m=\u001b[39mparam_grid,\n\u001b[0;32m      <a href='vscode-notebook-cell:/c%3A/Users/Administrator/Documents/GitHub/South-African-Language-Identification-Hack-2022/starter-notebook.ipynb#ch0000121?line=4'>5</a>\u001b[0m                            scoring\u001b[39m=\u001b[39m\u001b[39m'\u001b[39m\u001b[39mf1_weighted\u001b[39m\u001b[39m'\u001b[39m,\n\u001b[0;32m      <a href='vscode-notebook-cell:/c%3A/Users/Administrator/Documents/GitHub/South-African-Language-Identification-Hack-2022/starter-notebook.ipynb#ch0000121?line=5'>6</a>\u001b[0m                            cv\u001b[39m=\u001b[39mstratified_kfold,\n\u001b[0;32m      <a href='vscode-notebook-cell:/c%3A/Users/Administrator/Documents/GitHub/South-African-Language-Identification-Hack-2022/starter-notebook.ipynb#ch0000121?line=6'>7</a>\u001b[0m                            error_score\u001b[39m=\u001b[39m\u001b[39m0\u001b[39m,\n\u001b[0;32m      <a href='vscode-notebook-cell:/c%3A/Users/Administrator/Documents/GitHub/South-African-Language-Identification-Hack-2022/starter-notebook.ipynb#ch0000121?line=7'>8</a>\u001b[0m                            n_jobs\u001b[39m=\u001b[39m\u001b[39m-\u001b[39m\u001b[39m1\u001b[39m)\n",
      "\u001b[1;31mNameError\u001b[0m: name 'model1' is not defined"
     ]
    }
   ],
   "source": [
    "alpha = list(np.linspace(0.1,0.02,4))\n",
    "param_grid = dict(alpha=alpha)\n",
    "grid_search = GridSearchCV(estimator= model_MultinomialNB,\n",
    "                           param_grid=param_grid,\n",
    "                           scoring='f1_weighted',\n",
    "                           cv=stratified_kfold,\n",
    "                           error_score=0,\n",
    "                           n_jobs=-1)"
   ]
  },
  {
   "cell_type": "code",
   "execution_count": 104,
   "id": "20d073e0",
   "metadata": {},
   "outputs": [
    {
     "ename": "NameError",
     "evalue": "name 'grid_search' is not defined",
     "output_type": "error",
     "traceback": [
      "\u001b[1;31m---------------------------------------------------------------------------\u001b[0m",
      "\u001b[1;31mNameError\u001b[0m                                 Traceback (most recent call last)",
      "\u001b[1;32mc:\\Users\\Administrator\\Documents\\GitHub\\South-African-Language-Identification-Hack-2022\\starter-notebook.ipynb Cell 81'\u001b[0m in \u001b[0;36m<cell line: 1>\u001b[1;34m()\u001b[0m\n\u001b[1;32m----> <a href='vscode-notebook-cell:/c%3A/Users/Administrator/Documents/GitHub/South-African-Language-Identification-Hack-2022/starter-notebook.ipynb#ch0000054?line=0'>1</a>\u001b[0m grid_search\u001b[39m.\u001b[39mfit(X_train, y_train)\n\u001b[0;32m      <a href='vscode-notebook-cell:/c%3A/Users/Administrator/Documents/GitHub/South-African-Language-Identification-Hack-2022/starter-notebook.ipynb#ch0000054?line=1'>2</a>\u001b[0m prediction \u001b[39m=\u001b[39m grid_search\u001b[39m.\u001b[39mpredict(X_test)\n\u001b[0;32m      <a href='vscode-notebook-cell:/c%3A/Users/Administrator/Documents/GitHub/South-African-Language-Identification-Hack-2022/starter-notebook.ipynb#ch0000054?line=2'>3</a>\u001b[0m cv_score \u001b[39m=\u001b[39m grid_search\u001b[39m.\u001b[39mbest_score_\n",
      "\u001b[1;31mNameError\u001b[0m: name 'grid_search' is not defined"
     ]
    }
   ],
   "source": [
    "grid_search.fit(X_train, y_train)\n",
    "prediction = grid_search.predict(X_test)\n",
    "cv_score = grid_search.best_score_\n",
    "test_score = grid_search.score(X_test, y_test)"
   ]
  },
  {
   "cell_type": "code",
   "execution_count": null,
   "id": "69c2ba93",
   "metadata": {},
   "outputs": [],
   "source": [
    "print(f'Cross-validation score: {cv_score}')\n",
    "print(f'Test score: {test_score}')\n",
    "grid_search.best_params_    \n",
    "grid_search.best_estimator_"
   ]
  },
  {
   "cell_type": "code",
   "execution_count": 105,
   "id": "5607d956",
   "metadata": {},
   "outputs": [],
   "source": [
    "#Instance for RidgeClassifier\n",
    "model_ridge = RidgeClassifier()"
   ]
  },
  {
   "cell_type": "code",
   "execution_count": null,
   "id": "6e43a79d",
   "metadata": {},
   "outputs": [],
   "source": [
    "best_params_hyperparameters[alg[4].__class__.__name__]"
   ]
  },
  {
   "cell_type": "code",
   "execution_count": null,
   "id": "c8da8498",
   "metadata": {},
   "outputs": [],
   "source": [
    "alpha = list(np.linspace(0.1,0.02,4))\n",
    "param_grid = dict(alpha=alpha)\n",
    "grid_search = GridSearchCV(estimator= model1,\n",
    "                           param_grid=param_grid,\n",
    "                           scoring='f1_weighted',\n",
    "                           cv=stratified_kfold,\n",
    "                           error_score=0,\n",
    "                           n_jobs=-1)"
   ]
  },
  {
   "cell_type": "code",
   "execution_count": null,
   "id": "338bf02a",
   "metadata": {},
   "outputs": [],
   "source": [
    "grid_search.fit(X_train, y_train)\n",
    "prediction = grid_search.predict(X_test)\n",
    "cv_score = grid_search.best_score_\n",
    "test_score = grid_search.score(X_test, y_test)"
   ]
  },
  {
   "cell_type": "code",
   "execution_count": null,
   "id": "a70c15d7",
   "metadata": {},
   "outputs": [],
   "source": [
    "# evaluate one or more ML models"
   ]
  },
  {
   "cell_type": "markdown",
   "id": "6b530251",
   "metadata": {},
   "source": [
    "<a id=\"six\"></a>\n",
    "## 6. Model Performance\n",
    "<a class=\"anchor\" id=\"1.1\"></a>\n",
    "<a href=#cont>Back to Table of Contents</a>\n",
    "\n",
    "---\n",
    "    \n",
    "| ⚡ Description: Model performance ⚡ |\n",
    "| :--------------------------- |\n",
    "| In this section, I compared the relative performance of the various trained ML models on a holdout dataset and gave a brief comment on what model is the best and why. |\n",
    "\n",
    "---"
   ]
  },
  {
   "cell_type": "code",
   "execution_count": null,
   "id": "6a69b5a1",
   "metadata": {},
   "outputs": [],
   "source": [
    "# Compare model performance"
   ]
  },
  {
   "cell_type": "code",
   "execution_count": null,
   "id": "3874a7c6",
   "metadata": {},
   "outputs": [],
   "source": [
    "# Choose best model and motivate why it is the best choice"
   ]
  },
  {
   "cell_type": "markdown",
   "id": "a8ad0c0d",
   "metadata": {},
   "source": [
    "<a id=\"seven\"></a>\n",
    "## 7. Model Explanations\n",
    "<a class=\"anchor\" id=\"1.1\"></a>\n",
    "<a href=#cont>Back to Table of Contents</a>\n",
    "\n",
    "---\n",
    "    \n",
    "| ⚡ Description: Model explanation ⚡ |\n",
    "| :--------------------------- |\n",
    "| This is where I explained the chosen model and briefly discussed how the best performing model works in a simple way so that both technical and non-technical stakeholders can grasp the intuition behind the model's inner workings. |\n",
    "\n",
    "---"
   ]
  },
  {
   "cell_type": "code",
   "execution_count": null,
   "id": "5ff741c2",
   "metadata": {},
   "outputs": [],
   "source": [
    "# discuss chosen methods logic"
   ]
  }
 ],
 "metadata": {
  "kernelspec": {
   "display_name": "Python 3.10.4 64-bit",
   "language": "python",
   "name": "python3"
  },
  "language_info": {
   "codemirror_mode": {
    "name": "ipython",
    "version": 3
   },
   "file_extension": ".py",
   "mimetype": "text/x-python",
   "name": "python",
   "nbconvert_exporter": "python",
   "pygments_lexer": "ipython3",
   "version": "3.10.4"
  },
  "latex_envs": {
   "LaTeX_envs_menu_present": true,
   "autoclose": false,
   "autocomplete": true,
   "bibliofile": "biblio.bib",
   "cite_by": "apalike",
   "current_citInitial": 1,
   "eqLabelWithNumbers": true,
   "eqNumInitial": 1,
   "hotkeys": {
    "equation": "Ctrl-E",
    "itemize": "Ctrl-I"
   },
   "labels_anchors": false,
   "latex_user_defs": false,
   "report_style_numbering": false,
   "user_envs_cfg": false
  },
  "toc": {
   "base_numbering": 1,
   "nav_menu": {},
   "number_sections": true,
   "sideBar": true,
   "skip_h1_title": false,
   "title_cell": "Table of Contents",
   "title_sidebar": "Contents",
   "toc_cell": false,
   "toc_position": {},
   "toc_section_display": true,
   "toc_window_display": false
  },
  "varInspector": {
   "cols": {
    "lenName": 16,
    "lenType": 16,
    "lenVar": 40
   },
   "kernels_config": {
    "python": {
     "delete_cmd_postfix": "",
     "delete_cmd_prefix": "del ",
     "library": "var_list.py",
     "varRefreshCmd": "print(var_dic_list())"
    },
    "r": {
     "delete_cmd_postfix": ") ",
     "delete_cmd_prefix": "rm(",
     "library": "var_list.r",
     "varRefreshCmd": "cat(var_dic_list()) "
    }
   },
   "types_to_exclude": [
    "module",
    "function",
    "builtin_function_or_method",
    "instance",
    "_Feature"
   ],
   "window_display": false
  },
  "vscode": {
   "interpreter": {
    "hash": "3196968d684371006099b3d55edeef8ed90365227a30deaef86e5d4aa8519be0"
   }
  }
 },
 "nbformat": 4,
 "nbformat_minor": 5
}
