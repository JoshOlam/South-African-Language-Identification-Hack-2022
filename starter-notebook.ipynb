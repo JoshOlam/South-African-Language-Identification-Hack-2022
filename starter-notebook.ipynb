{
 "cells": [
  {
   "cell_type": "markdown",
   "id": "6c7e849a",
   "metadata": {
    "ExecuteTime": {
     "end_time": "2021-06-11T09:24:53.643384Z",
     "start_time": "2021-06-11T09:24:53.622385Z"
    }
   },
   "source": [
    "# South African Language Identification Hack 2022\n",
    "\n",
    "© Explore Data Science Academy\n",
    "\n",
    "---\n",
    "### Honour Code\n",
    "\n",
    "I {**Joshua, Olalemi**}, confirm - by submitting this document - that the solutions in this notebook are a result of my own work and that I abide by the [EDSA honour code](https://drive.google.com/file/d/1QDCjGZJ8-FmJE3bZdIQNwnJyQKPhHZBn/view?usp=sharing).\n",
    "\n",
    "Non-compliance with the honour code constitutes a material breach of contract.\n",
    "\n",
    "### Hackathon Overview: Spain Electricity Shortfall Challenge\n",
    "\n",
    "South Africa is a multicultural society that is characterised by its rich linguistic diversity. Language is an indispensable tool that can be used to deepen democracy and also contribute to the social, cultural, intellectual, economic and political life of the South African society.\n",
    "\n",
    "The country is multilingual with 11 official languages, each of which is guaranteed equal status. Most South Africans are multilingual and able to speak at least two or more of the official languages.\n",
    "From South African Government\n",
    "<br></br>\n",
    "\n",
    "<div align=\"center\" style=\"width: 600px; font-size: 80%; text-align: center; margin: 0 auto\">\n",
    "<img src=\"https://www.googleapis.com/download/storage/v1/b/kaggle-user-content/o/inbox%2F2205222%2F7f34544c1b1f61d1a5949bddacfd84a9%2FSouth_Africa_languages_2011.jpg?generation=1604393669339034&alt=media\"\n",
    "     alt=\"South Africa's Languages\"\n",
    "     style=\"float: center; padding-bottom=0.5em\"\n",
    "     width=800px/>\n"
   ]
  },
  {
   "cell_type": "markdown",
   "id": "ef9b6b66",
   "metadata": {},
   "source": [
    "With such a multilingual population, it is only obvious that our systems and devices also communicate in multi-languages.\n",
    "\n",
    "In this challenge, you will take text which is in any of South Africa's 11 Official languages and identify which language the text is in. This is an example of NLP's Language Identification, the task of determining the natural language that a piece of text is written in."
   ]
  },
  {
   "cell_type": "markdown",
   "id": "05600c92",
   "metadata": {},
   "source": [
    "<a id=\"cont\"></a>\n",
    "\n",
    "## Table of Contents\n",
    "\n",
    "<a href=#one>1. Importing Packages</a>\n",
    "\n",
    "<a href=#two>2. Loading Data</a>\n",
    "\n",
    "<a href=#three>3. Exploratory Data Analysis (EDA)</a>\n",
    "\n",
    "<a href=#four>4. Data Engineering</a>\n",
    "\n",
    "<a href=#five>5. Modeling</a>\n",
    "\n",
    "<a href=#six>6. Model Performance</a>\n",
    "\n",
    "<a href=#seven>7. Model Explanations</a>"
   ]
  },
  {
   "cell_type": "markdown",
   "id": "997462e2",
   "metadata": {},
   "source": [
    " <a id=\"one\"></a>\n",
    "## 1. Importing Packages\n",
    "<a href=#cont>Back to Table of Contents</a>\n",
    "\n",
    "---\n",
    "    \n",
    "| ⚡ Description: Importing Packages ⚡ |\n",
    "| :--------------------------- |\n",
    "| In this section, I imported and briefly discussed the libraries that I used throughout the analysis and modelling. |\n",
    "\n",
    "---"
   ]
  },
  {
   "cell_type": "code",
   "execution_count": 18,
   "id": "475dbe93",
   "metadata": {
    "ExecuteTime": {
     "end_time": "2021-06-23T10:30:53.800892Z",
     "start_time": "2021-06-23T10:30:50.215449Z"
    }
   },
   "outputs": [],
   "source": [
    "# Libraries for data loading, data manipulation and data visulisation\n",
    "import pandas as pd #This will be used for data loading and manipulation\n",
    "import numpy as np # This will be used for linear algebra on data\n",
    "import seaborn as sns #\n",
    "import matplotlib.pyplot as plt #This will be used for data visualization\n",
    "from matplotlib import rc\n",
    "%matplotlib inline\n",
    "\n",
    "import warnings\n",
    "warnings.filterwarnings('ignore')\n",
    "# Libraries for data preparation and model building\n",
    "#import *\n",
    "\n",
    "# Setting global constants to ensure notebook results are reproducible\n",
    "#PARAMETER_CONSTANT = ###"
   ]
  },
  {
   "cell_type": "markdown",
   "id": "f22a6718",
   "metadata": {},
   "source": [
    "<a id=\"two\"></a>\n",
    "## 2. Loading the Data\n",
    "<a class=\"anchor\" id=\"1.1\"></a>\n",
    "<a href=#cont>Back to Table of Contents</a>\n",
    "\n",
    "---\n",
    "    \n",
    "| ⚡ Description: Loading the data ⚡ |\n",
    "| :--------------------------- |\n",
    "| In this section, I loaded the data \"train\" and \"test\" datasets into different DataFrames. |\n",
    "\n",
    "---"
   ]
  },
  {
   "cell_type": "code",
   "execution_count": 20,
   "id": "fbbb6c18",
   "metadata": {
    "ExecuteTime": {
     "end_time": "2021-06-28T08:49:35.311495Z",
     "start_time": "2021-06-28T08:49:35.295494Z"
    }
   },
   "outputs": [
    {
     "data": {
      "text/html": [
       "<div>\n",
       "<style scoped>\n",
       "    .dataframe tbody tr th:only-of-type {\n",
       "        vertical-align: middle;\n",
       "    }\n",
       "\n",
       "    .dataframe tbody tr th {\n",
       "        vertical-align: top;\n",
       "    }\n",
       "\n",
       "    .dataframe thead th {\n",
       "        text-align: right;\n",
       "    }\n",
       "</style>\n",
       "<table border=\"1\" class=\"dataframe\">\n",
       "  <thead>\n",
       "    <tr style=\"text-align: right;\">\n",
       "      <th></th>\n",
       "      <th>Unnamed: 0</th>\n",
       "      <th>time</th>\n",
       "      <th>Madrid_wind_speed</th>\n",
       "      <th>Valencia_wind_deg</th>\n",
       "      <th>Bilbao_rain_1h</th>\n",
       "      <th>Valencia_wind_speed</th>\n",
       "      <th>Seville_humidity</th>\n",
       "      <th>Madrid_humidity</th>\n",
       "      <th>Bilbao_clouds_all</th>\n",
       "      <th>Bilbao_wind_speed</th>\n",
       "      <th>...</th>\n",
       "      <th>Madrid_temp_max</th>\n",
       "      <th>Barcelona_temp</th>\n",
       "      <th>Bilbao_temp_min</th>\n",
       "      <th>Bilbao_temp</th>\n",
       "      <th>Barcelona_temp_min</th>\n",
       "      <th>Bilbao_temp_max</th>\n",
       "      <th>Seville_temp_min</th>\n",
       "      <th>Madrid_temp</th>\n",
       "      <th>Madrid_temp_min</th>\n",
       "      <th>load_shortfall_3h</th>\n",
       "    </tr>\n",
       "  </thead>\n",
       "  <tbody>\n",
       "    <tr>\n",
       "      <th>0</th>\n",
       "      <td>0</td>\n",
       "      <td>2015-01-01 03:00:00</td>\n",
       "      <td>0.666667</td>\n",
       "      <td>level_5</td>\n",
       "      <td>0.0</td>\n",
       "      <td>0.666667</td>\n",
       "      <td>74.333333</td>\n",
       "      <td>64.000000</td>\n",
       "      <td>0.0</td>\n",
       "      <td>1.000000</td>\n",
       "      <td>...</td>\n",
       "      <td>265.938000</td>\n",
       "      <td>281.013000</td>\n",
       "      <td>269.338615</td>\n",
       "      <td>269.338615</td>\n",
       "      <td>281.013000</td>\n",
       "      <td>269.338615</td>\n",
       "      <td>274.254667</td>\n",
       "      <td>265.938000</td>\n",
       "      <td>265.938000</td>\n",
       "      <td>6715.666667</td>\n",
       "    </tr>\n",
       "    <tr>\n",
       "      <th>1</th>\n",
       "      <td>1</td>\n",
       "      <td>2015-01-01 06:00:00</td>\n",
       "      <td>0.333333</td>\n",
       "      <td>level_10</td>\n",
       "      <td>0.0</td>\n",
       "      <td>1.666667</td>\n",
       "      <td>78.333333</td>\n",
       "      <td>64.666667</td>\n",
       "      <td>0.0</td>\n",
       "      <td>1.000000</td>\n",
       "      <td>...</td>\n",
       "      <td>266.386667</td>\n",
       "      <td>280.561667</td>\n",
       "      <td>270.376000</td>\n",
       "      <td>270.376000</td>\n",
       "      <td>280.561667</td>\n",
       "      <td>270.376000</td>\n",
       "      <td>274.945000</td>\n",
       "      <td>266.386667</td>\n",
       "      <td>266.386667</td>\n",
       "      <td>4171.666667</td>\n",
       "    </tr>\n",
       "    <tr>\n",
       "      <th>2</th>\n",
       "      <td>2</td>\n",
       "      <td>2015-01-01 09:00:00</td>\n",
       "      <td>1.000000</td>\n",
       "      <td>level_9</td>\n",
       "      <td>0.0</td>\n",
       "      <td>1.000000</td>\n",
       "      <td>71.333333</td>\n",
       "      <td>64.333333</td>\n",
       "      <td>0.0</td>\n",
       "      <td>1.000000</td>\n",
       "      <td>...</td>\n",
       "      <td>272.708667</td>\n",
       "      <td>281.583667</td>\n",
       "      <td>275.027229</td>\n",
       "      <td>275.027229</td>\n",
       "      <td>281.583667</td>\n",
       "      <td>275.027229</td>\n",
       "      <td>278.792000</td>\n",
       "      <td>272.708667</td>\n",
       "      <td>272.708667</td>\n",
       "      <td>4274.666667</td>\n",
       "    </tr>\n",
       "    <tr>\n",
       "      <th>3</th>\n",
       "      <td>3</td>\n",
       "      <td>2015-01-01 12:00:00</td>\n",
       "      <td>1.000000</td>\n",
       "      <td>level_8</td>\n",
       "      <td>0.0</td>\n",
       "      <td>1.000000</td>\n",
       "      <td>65.333333</td>\n",
       "      <td>56.333333</td>\n",
       "      <td>0.0</td>\n",
       "      <td>1.000000</td>\n",
       "      <td>...</td>\n",
       "      <td>281.895219</td>\n",
       "      <td>283.434104</td>\n",
       "      <td>281.135063</td>\n",
       "      <td>281.135063</td>\n",
       "      <td>283.434104</td>\n",
       "      <td>281.135063</td>\n",
       "      <td>285.394000</td>\n",
       "      <td>281.895219</td>\n",
       "      <td>281.895219</td>\n",
       "      <td>5075.666667</td>\n",
       "    </tr>\n",
       "    <tr>\n",
       "      <th>4</th>\n",
       "      <td>4</td>\n",
       "      <td>2015-01-01 15:00:00</td>\n",
       "      <td>1.000000</td>\n",
       "      <td>level_7</td>\n",
       "      <td>0.0</td>\n",
       "      <td>1.000000</td>\n",
       "      <td>59.000000</td>\n",
       "      <td>57.000000</td>\n",
       "      <td>2.0</td>\n",
       "      <td>0.333333</td>\n",
       "      <td>...</td>\n",
       "      <td>280.678437</td>\n",
       "      <td>284.213167</td>\n",
       "      <td>282.252063</td>\n",
       "      <td>282.252063</td>\n",
       "      <td>284.213167</td>\n",
       "      <td>282.252063</td>\n",
       "      <td>285.513719</td>\n",
       "      <td>280.678437</td>\n",
       "      <td>280.678437</td>\n",
       "      <td>6620.666667</td>\n",
       "    </tr>\n",
       "  </tbody>\n",
       "</table>\n",
       "<p>5 rows × 49 columns</p>\n",
       "</div>"
      ],
      "text/plain": [
       "   Unnamed: 0                 time  Madrid_wind_speed Valencia_wind_deg  \\\n",
       "0           0  2015-01-01 03:00:00           0.666667           level_5   \n",
       "1           1  2015-01-01 06:00:00           0.333333          level_10   \n",
       "2           2  2015-01-01 09:00:00           1.000000           level_9   \n",
       "3           3  2015-01-01 12:00:00           1.000000           level_8   \n",
       "4           4  2015-01-01 15:00:00           1.000000           level_7   \n",
       "\n",
       "   Bilbao_rain_1h  Valencia_wind_speed  Seville_humidity  Madrid_humidity  \\\n",
       "0             0.0             0.666667         74.333333        64.000000   \n",
       "1             0.0             1.666667         78.333333        64.666667   \n",
       "2             0.0             1.000000         71.333333        64.333333   \n",
       "3             0.0             1.000000         65.333333        56.333333   \n",
       "4             0.0             1.000000         59.000000        57.000000   \n",
       "\n",
       "   Bilbao_clouds_all  Bilbao_wind_speed  ...  Madrid_temp_max  Barcelona_temp  \\\n",
       "0                0.0           1.000000  ...       265.938000      281.013000   \n",
       "1                0.0           1.000000  ...       266.386667      280.561667   \n",
       "2                0.0           1.000000  ...       272.708667      281.583667   \n",
       "3                0.0           1.000000  ...       281.895219      283.434104   \n",
       "4                2.0           0.333333  ...       280.678437      284.213167   \n",
       "\n",
       "   Bilbao_temp_min  Bilbao_temp  Barcelona_temp_min  Bilbao_temp_max  \\\n",
       "0       269.338615   269.338615          281.013000       269.338615   \n",
       "1       270.376000   270.376000          280.561667       270.376000   \n",
       "2       275.027229   275.027229          281.583667       275.027229   \n",
       "3       281.135063   281.135063          283.434104       281.135063   \n",
       "4       282.252063   282.252063          284.213167       282.252063   \n",
       "\n",
       "   Seville_temp_min Madrid_temp  Madrid_temp_min  load_shortfall_3h  \n",
       "0        274.254667  265.938000       265.938000        6715.666667  \n",
       "1        274.945000  266.386667       266.386667        4171.666667  \n",
       "2        278.792000  272.708667       272.708667        4274.666667  \n",
       "3        285.394000  281.895219       281.895219        5075.666667  \n",
       "4        285.513719  280.678437       280.678437        6620.666667  \n",
       "\n",
       "[5 rows x 49 columns]"
      ]
     },
     "execution_count": 20,
     "metadata": {},
     "output_type": "execute_result"
    }
   ],
   "source": [
    "df = pd.read_csv(\"df_train.csv\") # load the data\n",
    "df.head() #This is just to be sure the dataset is loaded and to have a glance at it"
   ]
  },
  {
   "cell_type": "markdown",
   "id": "81132ab3",
   "metadata": {},
   "source": [
    "<a id=\"three\"></a>\n",
    "## 3. Exploratory Data Analysis (EDA)\n",
    "<a class=\"anchor\" id=\"1.1\"></a>\n",
    "<a href=#cont>Back to Table of Contents</a>\n",
    "\n",
    "---\n",
    "    \n",
    "| ⚡ Description: Exploratory data analysis ⚡ |\n",
    "| :--------------------------- |\n",
    "| In this section, I performed an in-depth analysis of all the variables in the DataFrame.|\n",
    "\n",
    "---\n"
   ]
  },
  {
   "cell_type": "code",
   "execution_count": 27,
   "id": "e805134e",
   "metadata": {
    "ExecuteTime": {
     "end_time": "2021-06-28T08:52:37.824204Z",
     "start_time": "2021-06-28T08:52:37.811206Z"
    }
   },
   "outputs": [
    {
     "data": {
      "text/html": [
       "<div>\n",
       "<style scoped>\n",
       "    .dataframe tbody tr th:only-of-type {\n",
       "        vertical-align: middle;\n",
       "    }\n",
       "\n",
       "    .dataframe tbody tr th {\n",
       "        vertical-align: top;\n",
       "    }\n",
       "\n",
       "    .dataframe thead th {\n",
       "        text-align: right;\n",
       "    }\n",
       "</style>\n",
       "<table border=\"1\" class=\"dataframe\">\n",
       "  <thead>\n",
       "    <tr style=\"text-align: right;\">\n",
       "      <th></th>\n",
       "      <th>Unnamed: 0</th>\n",
       "      <th>time</th>\n",
       "      <th>Madrid_wind_speed</th>\n",
       "      <th>Valencia_wind_deg</th>\n",
       "      <th>Bilbao_rain_1h</th>\n",
       "      <th>Valencia_wind_speed</th>\n",
       "      <th>Seville_humidity</th>\n",
       "      <th>Madrid_humidity</th>\n",
       "      <th>Bilbao_clouds_all</th>\n",
       "      <th>Bilbao_wind_speed</th>\n",
       "      <th>...</th>\n",
       "      <th>Madrid_temp_max</th>\n",
       "      <th>Barcelona_temp</th>\n",
       "      <th>Bilbao_temp_min</th>\n",
       "      <th>Bilbao_temp</th>\n",
       "      <th>Barcelona_temp_min</th>\n",
       "      <th>Bilbao_temp_max</th>\n",
       "      <th>Seville_temp_min</th>\n",
       "      <th>Madrid_temp</th>\n",
       "      <th>Madrid_temp_min</th>\n",
       "      <th>load_shortfall_3h</th>\n",
       "    </tr>\n",
       "  </thead>\n",
       "  <tbody>\n",
       "    <tr>\n",
       "      <th>0</th>\n",
       "      <td>0</td>\n",
       "      <td>2015-01-01 03:00:00</td>\n",
       "      <td>0.666667</td>\n",
       "      <td>level_5</td>\n",
       "      <td>0.0</td>\n",
       "      <td>0.666667</td>\n",
       "      <td>74.333333</td>\n",
       "      <td>64.000000</td>\n",
       "      <td>0.0</td>\n",
       "      <td>1.000000</td>\n",
       "      <td>...</td>\n",
       "      <td>265.938000</td>\n",
       "      <td>281.013000</td>\n",
       "      <td>269.338615</td>\n",
       "      <td>269.338615</td>\n",
       "      <td>281.013000</td>\n",
       "      <td>269.338615</td>\n",
       "      <td>274.254667</td>\n",
       "      <td>265.938000</td>\n",
       "      <td>265.938000</td>\n",
       "      <td>6715.666667</td>\n",
       "    </tr>\n",
       "    <tr>\n",
       "      <th>1</th>\n",
       "      <td>1</td>\n",
       "      <td>2015-01-01 06:00:00</td>\n",
       "      <td>0.333333</td>\n",
       "      <td>level_10</td>\n",
       "      <td>0.0</td>\n",
       "      <td>1.666667</td>\n",
       "      <td>78.333333</td>\n",
       "      <td>64.666667</td>\n",
       "      <td>0.0</td>\n",
       "      <td>1.000000</td>\n",
       "      <td>...</td>\n",
       "      <td>266.386667</td>\n",
       "      <td>280.561667</td>\n",
       "      <td>270.376000</td>\n",
       "      <td>270.376000</td>\n",
       "      <td>280.561667</td>\n",
       "      <td>270.376000</td>\n",
       "      <td>274.945000</td>\n",
       "      <td>266.386667</td>\n",
       "      <td>266.386667</td>\n",
       "      <td>4171.666667</td>\n",
       "    </tr>\n",
       "    <tr>\n",
       "      <th>2</th>\n",
       "      <td>2</td>\n",
       "      <td>2015-01-01 09:00:00</td>\n",
       "      <td>1.000000</td>\n",
       "      <td>level_9</td>\n",
       "      <td>0.0</td>\n",
       "      <td>1.000000</td>\n",
       "      <td>71.333333</td>\n",
       "      <td>64.333333</td>\n",
       "      <td>0.0</td>\n",
       "      <td>1.000000</td>\n",
       "      <td>...</td>\n",
       "      <td>272.708667</td>\n",
       "      <td>281.583667</td>\n",
       "      <td>275.027229</td>\n",
       "      <td>275.027229</td>\n",
       "      <td>281.583667</td>\n",
       "      <td>275.027229</td>\n",
       "      <td>278.792000</td>\n",
       "      <td>272.708667</td>\n",
       "      <td>272.708667</td>\n",
       "      <td>4274.666667</td>\n",
       "    </tr>\n",
       "    <tr>\n",
       "      <th>3</th>\n",
       "      <td>3</td>\n",
       "      <td>2015-01-01 12:00:00</td>\n",
       "      <td>1.000000</td>\n",
       "      <td>level_8</td>\n",
       "      <td>0.0</td>\n",
       "      <td>1.000000</td>\n",
       "      <td>65.333333</td>\n",
       "      <td>56.333333</td>\n",
       "      <td>0.0</td>\n",
       "      <td>1.000000</td>\n",
       "      <td>...</td>\n",
       "      <td>281.895219</td>\n",
       "      <td>283.434104</td>\n",
       "      <td>281.135063</td>\n",
       "      <td>281.135063</td>\n",
       "      <td>283.434104</td>\n",
       "      <td>281.135063</td>\n",
       "      <td>285.394000</td>\n",
       "      <td>281.895219</td>\n",
       "      <td>281.895219</td>\n",
       "      <td>5075.666667</td>\n",
       "    </tr>\n",
       "    <tr>\n",
       "      <th>4</th>\n",
       "      <td>4</td>\n",
       "      <td>2015-01-01 15:00:00</td>\n",
       "      <td>1.000000</td>\n",
       "      <td>level_7</td>\n",
       "      <td>0.0</td>\n",
       "      <td>1.000000</td>\n",
       "      <td>59.000000</td>\n",
       "      <td>57.000000</td>\n",
       "      <td>2.0</td>\n",
       "      <td>0.333333</td>\n",
       "      <td>...</td>\n",
       "      <td>280.678437</td>\n",
       "      <td>284.213167</td>\n",
       "      <td>282.252063</td>\n",
       "      <td>282.252063</td>\n",
       "      <td>284.213167</td>\n",
       "      <td>282.252063</td>\n",
       "      <td>285.513719</td>\n",
       "      <td>280.678437</td>\n",
       "      <td>280.678437</td>\n",
       "      <td>6620.666667</td>\n",
       "    </tr>\n",
       "  </tbody>\n",
       "</table>\n",
       "<p>5 rows × 49 columns</p>\n",
       "</div>"
      ],
      "text/plain": [
       "   Unnamed: 0                 time  Madrid_wind_speed Valencia_wind_deg  \\\n",
       "0           0  2015-01-01 03:00:00           0.666667           level_5   \n",
       "1           1  2015-01-01 06:00:00           0.333333          level_10   \n",
       "2           2  2015-01-01 09:00:00           1.000000           level_9   \n",
       "3           3  2015-01-01 12:00:00           1.000000           level_8   \n",
       "4           4  2015-01-01 15:00:00           1.000000           level_7   \n",
       "\n",
       "   Bilbao_rain_1h  Valencia_wind_speed  Seville_humidity  Madrid_humidity  \\\n",
       "0             0.0             0.666667         74.333333        64.000000   \n",
       "1             0.0             1.666667         78.333333        64.666667   \n",
       "2             0.0             1.000000         71.333333        64.333333   \n",
       "3             0.0             1.000000         65.333333        56.333333   \n",
       "4             0.0             1.000000         59.000000        57.000000   \n",
       "\n",
       "   Bilbao_clouds_all  Bilbao_wind_speed  ...  Madrid_temp_max  Barcelona_temp  \\\n",
       "0                0.0           1.000000  ...       265.938000      281.013000   \n",
       "1                0.0           1.000000  ...       266.386667      280.561667   \n",
       "2                0.0           1.000000  ...       272.708667      281.583667   \n",
       "3                0.0           1.000000  ...       281.895219      283.434104   \n",
       "4                2.0           0.333333  ...       280.678437      284.213167   \n",
       "\n",
       "   Bilbao_temp_min  Bilbao_temp  Barcelona_temp_min  Bilbao_temp_max  \\\n",
       "0       269.338615   269.338615          281.013000       269.338615   \n",
       "1       270.376000   270.376000          280.561667       270.376000   \n",
       "2       275.027229   275.027229          281.583667       275.027229   \n",
       "3       281.135063   281.135063          283.434104       281.135063   \n",
       "4       282.252063   282.252063          284.213167       282.252063   \n",
       "\n",
       "   Seville_temp_min Madrid_temp  Madrid_temp_min  load_shortfall_3h  \n",
       "0        274.254667  265.938000       265.938000        6715.666667  \n",
       "1        274.945000  266.386667       266.386667        4171.666667  \n",
       "2        278.792000  272.708667       272.708667        4274.666667  \n",
       "3        285.394000  281.895219       281.895219        5075.666667  \n",
       "4        285.513719  280.678437       280.678437        6620.666667  \n",
       "\n",
       "[5 rows x 49 columns]"
      ]
     },
     "execution_count": 27,
     "metadata": {},
     "output_type": "execute_result"
    }
   ],
   "source": [
    "# look at data statistics\n",
    "df.head()"
   ]
  },
  {
   "cell_type": "markdown",
   "id": "48791a4c",
   "metadata": {},
   "source": [
    "Looking at the top five rows of our data we can see some of our features as well as the types of data we are working with.\n",
    "\n",
    "Observe that it was trunctated after Bilbao_wind_speed, then it resumed again at Madrid_temp_max.\n",
    "\n",
    "To get all the features of our train dataset, we will apply the `.columns` method on it."
   ]
  },
  {
   "cell_type": "code",
   "execution_count": 29,
   "id": "d8836b87",
   "metadata": {},
   "outputs": [
    {
     "data": {
      "text/plain": [
       "Index(['Unnamed: 0', 'time', 'Madrid_wind_speed', 'Valencia_wind_deg',\n",
       "       'Bilbao_rain_1h', 'Valencia_wind_speed', 'Seville_humidity',\n",
       "       'Madrid_humidity', 'Bilbao_clouds_all', 'Bilbao_wind_speed',\n",
       "       'Seville_clouds_all', 'Bilbao_wind_deg', 'Barcelona_wind_speed',\n",
       "       'Barcelona_wind_deg', 'Madrid_clouds_all', 'Seville_wind_speed',\n",
       "       'Barcelona_rain_1h', 'Seville_pressure', 'Seville_rain_1h',\n",
       "       'Bilbao_snow_3h', 'Barcelona_pressure', 'Seville_rain_3h',\n",
       "       'Madrid_rain_1h', 'Barcelona_rain_3h', 'Valencia_snow_3h',\n",
       "       'Madrid_weather_id', 'Barcelona_weather_id', 'Bilbao_pressure',\n",
       "       'Seville_weather_id', 'Valencia_pressure', 'Seville_temp_max',\n",
       "       'Madrid_pressure', 'Valencia_temp_max', 'Valencia_temp',\n",
       "       'Bilbao_weather_id', 'Seville_temp', 'Valencia_humidity',\n",
       "       'Valencia_temp_min', 'Barcelona_temp_max', 'Madrid_temp_max',\n",
       "       'Barcelona_temp', 'Bilbao_temp_min', 'Bilbao_temp',\n",
       "       'Barcelona_temp_min', 'Bilbao_temp_max', 'Seville_temp_min',\n",
       "       'Madrid_temp', 'Madrid_temp_min', 'load_shortfall_3h'],\n",
       "      dtype='object')"
      ]
     },
     "execution_count": 29,
     "metadata": {},
     "output_type": "execute_result"
    }
   ],
   "source": [
    "df.columns #This will return all the column names in the dataset"
   ]
  },
  {
   "cell_type": "code",
   "execution_count": 33,
   "id": "b0226322",
   "metadata": {},
   "outputs": [
    {
     "data": {
      "text/plain": [
       "(8763, 49)"
      ]
     },
     "execution_count": 33,
     "metadata": {},
     "output_type": "execute_result"
    }
   ],
   "source": [
    "df.shape #This will show us the 'shape' of our dataset."
   ]
  },
  {
   "cell_type": "markdown",
   "id": "eaf3699a",
   "metadata": {},
   "source": [
    "As displayed, our data has **8763** rows and **49** columns."
   ]
  },
  {
   "cell_type": "code",
   "execution_count": 34,
   "id": "a830ee82",
   "metadata": {},
   "outputs": [
    {
     "name": "stdout",
     "output_type": "stream",
     "text": [
      "<class 'pandas.core.frame.DataFrame'>\n",
      "RangeIndex: 8763 entries, 0 to 8762\n",
      "Data columns (total 49 columns):\n",
      " #   Column                Non-Null Count  Dtype  \n",
      "---  ------                --------------  -----  \n",
      " 0   Unnamed: 0            8763 non-null   int64  \n",
      " 1   time                  8763 non-null   object \n",
      " 2   Madrid_wind_speed     8763 non-null   float64\n",
      " 3   Valencia_wind_deg     8763 non-null   object \n",
      " 4   Bilbao_rain_1h        8763 non-null   float64\n",
      " 5   Valencia_wind_speed   8763 non-null   float64\n",
      " 6   Seville_humidity      8763 non-null   float64\n",
      " 7   Madrid_humidity       8763 non-null   float64\n",
      " 8   Bilbao_clouds_all     8763 non-null   float64\n",
      " 9   Bilbao_wind_speed     8763 non-null   float64\n",
      " 10  Seville_clouds_all    8763 non-null   float64\n",
      " 11  Bilbao_wind_deg       8763 non-null   float64\n",
      " 12  Barcelona_wind_speed  8763 non-null   float64\n",
      " 13  Barcelona_wind_deg    8763 non-null   float64\n",
      " 14  Madrid_clouds_all     8763 non-null   float64\n",
      " 15  Seville_wind_speed    8763 non-null   float64\n",
      " 16  Barcelona_rain_1h     8763 non-null   float64\n",
      " 17  Seville_pressure      8763 non-null   object \n",
      " 18  Seville_rain_1h       8763 non-null   float64\n",
      " 19  Bilbao_snow_3h        8763 non-null   float64\n",
      " 20  Barcelona_pressure    8763 non-null   float64\n",
      " 21  Seville_rain_3h       8763 non-null   float64\n",
      " 22  Madrid_rain_1h        8763 non-null   float64\n",
      " 23  Barcelona_rain_3h     8763 non-null   float64\n",
      " 24  Valencia_snow_3h      8763 non-null   float64\n",
      " 25  Madrid_weather_id     8763 non-null   float64\n",
      " 26  Barcelona_weather_id  8763 non-null   float64\n",
      " 27  Bilbao_pressure       8763 non-null   float64\n",
      " 28  Seville_weather_id    8763 non-null   float64\n",
      " 29  Valencia_pressure     6695 non-null   float64\n",
      " 30  Seville_temp_max      8763 non-null   float64\n",
      " 31  Madrid_pressure       8763 non-null   float64\n",
      " 32  Valencia_temp_max     8763 non-null   float64\n",
      " 33  Valencia_temp         8763 non-null   float64\n",
      " 34  Bilbao_weather_id     8763 non-null   float64\n",
      " 35  Seville_temp          8763 non-null   float64\n",
      " 36  Valencia_humidity     8763 non-null   float64\n",
      " 37  Valencia_temp_min     8763 non-null   float64\n",
      " 38  Barcelona_temp_max    8763 non-null   float64\n",
      " 39  Madrid_temp_max       8763 non-null   float64\n",
      " 40  Barcelona_temp        8763 non-null   float64\n",
      " 41  Bilbao_temp_min       8763 non-null   float64\n",
      " 42  Bilbao_temp           8763 non-null   float64\n",
      " 43  Barcelona_temp_min    8763 non-null   float64\n",
      " 44  Bilbao_temp_max       8763 non-null   float64\n",
      " 45  Seville_temp_min      8763 non-null   float64\n",
      " 46  Madrid_temp           8763 non-null   float64\n",
      " 47  Madrid_temp_min       8763 non-null   float64\n",
      " 48  load_shortfall_3h     8763 non-null   float64\n",
      "dtypes: float64(45), int64(1), object(3)\n",
      "memory usage: 3.3+ MB\n"
     ]
    }
   ],
   "source": [
    "df.info()"
   ]
  },
  {
   "cell_type": "markdown",
   "id": "2957bddc",
   "metadata": {},
   "source": [
    "The info command displays the information of the dataset; viz: the index number, column name, non-null value and the data type contained in the columns.\n",
    "\n",
    "A model can only read numeric data types, such as the 'float64' or 'int64'. Categorical features ('object') will break the model.\n",
    "\n",
    "So, observe the datatypes of column 'time', 'Valencia_wind_deg' and 'Seville_pressure'\n",
    "\n",
    "Again, null values are not allowed in our data.\n",
    "\n",
    "Remember that from the `df.shape` command we ran earlier, our dataset has `8763` rows. So, from our table info cell above, any column name under the **Non-Null Count** that is less than *8763* means it actually contains nulls.\n",
    "\n",
    "Now, observe the **Non-Null Count** of 'Valencia_pressure'. It is clear that the 'Valencia_pressure' feature has some nulls in it. This can be confirmed below:"
   ]
  },
  {
   "cell_type": "code",
   "execution_count": 35,
   "id": "83bfab0d",
   "metadata": {},
   "outputs": [
    {
     "data": {
      "text/plain": [
       "Unnamed: 0                 0\n",
       "time                       0\n",
       "Madrid_wind_speed          0\n",
       "Valencia_wind_deg          0\n",
       "Bilbao_rain_1h             0\n",
       "Valencia_wind_speed        0\n",
       "Seville_humidity           0\n",
       "Madrid_humidity            0\n",
       "Bilbao_clouds_all          0\n",
       "Bilbao_wind_speed          0\n",
       "Seville_clouds_all         0\n",
       "Bilbao_wind_deg            0\n",
       "Barcelona_wind_speed       0\n",
       "Barcelona_wind_deg         0\n",
       "Madrid_clouds_all          0\n",
       "Seville_wind_speed         0\n",
       "Barcelona_rain_1h          0\n",
       "Seville_pressure           0\n",
       "Seville_rain_1h            0\n",
       "Bilbao_snow_3h             0\n",
       "Barcelona_pressure         0\n",
       "Seville_rain_3h            0\n",
       "Madrid_rain_1h             0\n",
       "Barcelona_rain_3h          0\n",
       "Valencia_snow_3h           0\n",
       "Madrid_weather_id          0\n",
       "Barcelona_weather_id       0\n",
       "Bilbao_pressure            0\n",
       "Seville_weather_id         0\n",
       "Valencia_pressure       2068\n",
       "Seville_temp_max           0\n",
       "Madrid_pressure            0\n",
       "Valencia_temp_max          0\n",
       "Valencia_temp              0\n",
       "Bilbao_weather_id          0\n",
       "Seville_temp               0\n",
       "Valencia_humidity          0\n",
       "Valencia_temp_min          0\n",
       "Barcelona_temp_max         0\n",
       "Madrid_temp_max            0\n",
       "Barcelona_temp             0\n",
       "Bilbao_temp_min            0\n",
       "Bilbao_temp                0\n",
       "Barcelona_temp_min         0\n",
       "Bilbao_temp_max            0\n",
       "Seville_temp_min           0\n",
       "Madrid_temp                0\n",
       "Madrid_temp_min            0\n",
       "load_shortfall_3h          0\n",
       "dtype: int64"
      ]
     },
     "execution_count": 35,
     "metadata": {},
     "output_type": "execute_result"
    }
   ],
   "source": [
    "df.isnull().sum() #This returns the count of null values in the features."
   ]
  },
  {
   "cell_type": "markdown",
   "id": "8206c09c",
   "metadata": {},
   "source": [
    "This becomes clearer that 'Valencia_pressure' has `2068` null values in it."
   ]
  },
  {
   "cell_type": "code",
   "execution_count": 37,
   "id": "235a961e",
   "metadata": {},
   "outputs": [
    {
     "data": {
      "text/plain": [
       "Unnamed: 0               4381.000000\n",
       "Madrid_wind_speed           2.425729\n",
       "Bilbao_rain_1h              0.135753\n",
       "Valencia_wind_speed         2.586272\n",
       "Seville_humidity           62.658793\n",
       "Madrid_humidity            57.414717\n",
       "Bilbao_clouds_all          43.469132\n",
       "Bilbao_wind_speed           1.850356\n",
       "Seville_clouds_all         13.714748\n",
       "Bilbao_wind_deg           158.957511\n",
       "Barcelona_wind_speed        2.870497\n",
       "Barcelona_wind_deg        190.544848\n",
       "Madrid_clouds_all          19.473392\n",
       "Seville_wind_speed          2.425045\n",
       "Barcelona_rain_1h           0.128906\n",
       "Seville_rain_1h             0.039439\n",
       "Bilbao_snow_3h              0.031912\n",
       "Barcelona_pressure       1377.964605\n",
       "Seville_rain_3h             0.000243\n",
       "Madrid_rain_1h              0.037818\n",
       "Barcelona_rain_3h           0.000439\n",
       "Valencia_snow_3h            0.000205\n",
       "Madrid_weather_id         773.527594\n",
       "Barcelona_weather_id      765.979687\n",
       "Bilbao_pressure          1017.739549\n",
       "Seville_weather_id        774.658818\n",
       "Valencia_pressure        1012.051407\n",
       "Seville_temp_max          297.479527\n",
       "Madrid_pressure          1010.316920\n",
       "Valencia_temp_max         291.337233\n",
       "Valencia_temp             290.592152\n",
       "Bilbao_weather_id         724.722362\n",
       "Seville_temp              293.978903\n",
       "Valencia_humidity          65.247727\n",
       "Valencia_temp_min         289.867648\n",
       "Barcelona_temp_max        291.157644\n",
       "Madrid_temp_max           289.540309\n",
       "Barcelona_temp            289.855459\n",
       "Bilbao_temp_min           285.017973\n",
       "Bilbao_temp               286.422929\n",
       "Barcelona_temp_min        288.447422\n",
       "Bilbao_temp_max           287.966027\n",
       "Seville_temp_min          291.633356\n",
       "Madrid_temp               288.419439\n",
       "Madrid_temp_min           287.202203\n",
       "load_shortfall_3h       10673.857612\n",
       "dtype: float64"
      ]
     },
     "execution_count": 37,
     "metadata": {},
     "output_type": "execute_result"
    }
   ],
   "source": [
    "df.mean()"
   ]
  },
  {
   "cell_type": "code",
   "execution_count": null,
   "id": "69e5e7fb",
   "metadata": {},
   "outputs": [],
   "source": []
  },
  {
   "cell_type": "code",
   "execution_count": null,
   "id": "64aef384",
   "metadata": {},
   "outputs": [],
   "source": []
  },
  {
   "cell_type": "code",
   "execution_count": null,
   "id": "2fb74182",
   "metadata": {},
   "outputs": [],
   "source": [
    "# plot relevant feature interactions"
   ]
  },
  {
   "cell_type": "code",
   "execution_count": null,
   "id": "6dd6ee8c",
   "metadata": {},
   "outputs": [],
   "source": [
    "# evaluate correlation"
   ]
  },
  {
   "cell_type": "code",
   "execution_count": null,
   "id": "de51df85",
   "metadata": {},
   "outputs": [],
   "source": [
    "# have a look at feature distributions"
   ]
  },
  {
   "cell_type": "markdown",
   "id": "3fa93ec6",
   "metadata": {},
   "source": [
    "<a id=\"four\"></a>\n",
    "## 4. Data Engineering\n",
    "<a class=\"anchor\" id=\"1.1\"></a>\n",
    "<a href=#cont>Back to Table of Contents</a>\n",
    "\n",
    "---\n",
    "    \n",
    "| ⚡ Description: Data engineering ⚡ |\n",
    "| :--------------------------- |\n",
    "| In this section, I engineered the dataset by cleaning it and also adding new features - as identified in the EDA phase. |\n",
    "\n",
    "---"
   ]
  },
  {
   "cell_type": "code",
   "execution_count": null,
   "id": "059c2f3e",
   "metadata": {},
   "outputs": [],
   "source": [
    "# remove missing values/ features"
   ]
  },
  {
   "cell_type": "code",
   "execution_count": null,
   "id": "84eea17b",
   "metadata": {},
   "outputs": [],
   "source": [
    "# create new features"
   ]
  },
  {
   "cell_type": "code",
   "execution_count": null,
   "id": "59692724",
   "metadata": {},
   "outputs": [],
   "source": [
    "# engineer existing features"
   ]
  },
  {
   "cell_type": "markdown",
   "id": "43b2d523",
   "metadata": {},
   "source": [
    "<a id=\"five\"></a>\n",
    "## 5. Modelling\n",
    "<a class=\"anchor\" id=\"1.1\"></a>\n",
    "<a href=#cont>Back to Table of Contents</a>\n",
    "\n",
    "---\n",
    "    \n",
    "| ⚡ Description: Modelling ⚡ |\n",
    "| :--------------------------- |\n",
    "| In this section, I created several Machine Learning (ML) models to classify the languages accordingly. |\n",
    "\n",
    "---"
   ]
  },
  {
   "cell_type": "code",
   "execution_count": null,
   "id": "2344b3e0",
   "metadata": {},
   "outputs": [],
   "source": [
    "# split data"
   ]
  },
  {
   "cell_type": "code",
   "execution_count": null,
   "id": "9c58df02",
   "metadata": {},
   "outputs": [],
   "source": [
    "# create targets and features dataset"
   ]
  },
  {
   "cell_type": "code",
   "execution_count": null,
   "id": "20d073e0",
   "metadata": {},
   "outputs": [],
   "source": [
    "# create one or more ML models"
   ]
  },
  {
   "cell_type": "code",
   "execution_count": null,
   "id": "a70c15d7",
   "metadata": {},
   "outputs": [],
   "source": [
    "# evaluate one or more ML models"
   ]
  },
  {
   "cell_type": "markdown",
   "id": "6b530251",
   "metadata": {},
   "source": [
    "<a id=\"six\"></a>\n",
    "## 6. Model Performance\n",
    "<a class=\"anchor\" id=\"1.1\"></a>\n",
    "<a href=#cont>Back to Table of Contents</a>\n",
    "\n",
    "---\n",
    "    \n",
    "| ⚡ Description: Model performance ⚡ |\n",
    "| :--------------------------- |\n",
    "| In this section, I compared the relative performance of the various trained ML models on a holdout dataset and gave a brief comment on what model is the best and why. |\n",
    "\n",
    "---"
   ]
  },
  {
   "cell_type": "code",
   "execution_count": null,
   "id": "6a69b5a1",
   "metadata": {},
   "outputs": [],
   "source": [
    "# Compare model performance"
   ]
  },
  {
   "cell_type": "code",
   "execution_count": null,
   "id": "3874a7c6",
   "metadata": {},
   "outputs": [],
   "source": [
    "# Choose best model and motivate why it is the best choice"
   ]
  },
  {
   "cell_type": "markdown",
   "id": "a8ad0c0d",
   "metadata": {},
   "source": [
    "<a id=\"seven\"></a>\n",
    "## 7. Model Explanations\n",
    "<a class=\"anchor\" id=\"1.1\"></a>\n",
    "<a href=#cont>Back to Table of Contents</a>\n",
    "\n",
    "---\n",
    "    \n",
    "| ⚡ Description: Model explanation ⚡ |\n",
    "| :--------------------------- |\n",
    "| This is where I explained the chosen model and briefly discussed how the best performing model works in a simple way so that both technical and non-technical stakeholders can grasp the intuition behind the model's inner workings. |\n",
    "\n",
    "---"
   ]
  },
  {
   "cell_type": "code",
   "execution_count": null,
   "id": "5ff741c2",
   "metadata": {},
   "outputs": [],
   "source": [
    "# discuss chosen methods logic"
   ]
  }
 ],
 "metadata": {
  "kernelspec": {
   "display_name": "Python 3.9.12 ('base')",
   "language": "python",
   "name": "python3"
  },
  "language_info": {
   "codemirror_mode": {
    "name": "ipython",
    "version": 3
   },
   "file_extension": ".py",
   "mimetype": "text/x-python",
   "name": "python",
   "nbconvert_exporter": "python",
   "pygments_lexer": "ipython3",
   "version": "3.9.12"
  },
  "latex_envs": {
   "LaTeX_envs_menu_present": true,
   "autoclose": false,
   "autocomplete": true,
   "bibliofile": "biblio.bib",
   "cite_by": "apalike",
   "current_citInitial": 1,
   "eqLabelWithNumbers": true,
   "eqNumInitial": 1,
   "hotkeys": {
    "equation": "Ctrl-E",
    "itemize": "Ctrl-I"
   },
   "labels_anchors": false,
   "latex_user_defs": false,
   "report_style_numbering": false,
   "user_envs_cfg": false
  },
  "toc": {
   "base_numbering": 1,
   "nav_menu": {},
   "number_sections": true,
   "sideBar": true,
   "skip_h1_title": false,
   "title_cell": "Table of Contents",
   "title_sidebar": "Contents",
   "toc_cell": false,
   "toc_position": {},
   "toc_section_display": true,
   "toc_window_display": false
  },
  "varInspector": {
   "cols": {
    "lenName": 16,
    "lenType": 16,
    "lenVar": 40
   },
   "kernels_config": {
    "python": {
     "delete_cmd_postfix": "",
     "delete_cmd_prefix": "del ",
     "library": "var_list.py",
     "varRefreshCmd": "print(var_dic_list())"
    },
    "r": {
     "delete_cmd_postfix": ") ",
     "delete_cmd_prefix": "rm(",
     "library": "var_list.r",
     "varRefreshCmd": "cat(var_dic_list()) "
    }
   },
   "types_to_exclude": [
    "module",
    "function",
    "builtin_function_or_method",
    "instance",
    "_Feature"
   ],
   "window_display": false
  },
  "vscode": {
   "interpreter": {
    "hash": "ad2bdc8ecc057115af97d19610ffacc2b4e99fae6737bb82f5d7fb13d2f2c186"
   }
  }
 },
 "nbformat": 4,
 "nbformat_minor": 5
}
